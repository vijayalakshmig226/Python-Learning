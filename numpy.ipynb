{
  "nbformat": 4,
  "nbformat_minor": 0,
  "metadata": {
    "colab": {
      "provenance": [],
      "authorship_tag": "ABX9TyMLz/ZXa8PjO6KBxoJX3oeY",
      "include_colab_link": true
    },
    "kernelspec": {
      "name": "python3",
      "display_name": "Python 3"
    },
    "language_info": {
      "name": "python"
    }
  },
  "cells": [
    {
      "cell_type": "markdown",
      "metadata": {
        "id": "view-in-github",
        "colab_type": "text"
      },
      "source": [
        "<a href=\"https://colab.research.google.com/github/vijayalakshmig226/Python-Learning/blob/main/numpy.ipynb\" target=\"_parent\"><img src=\"https://colab.research.google.com/assets/colab-badge.svg\" alt=\"Open In Colab\"/></a>"
      ]
    },
    {
      "cell_type": "code",
      "execution_count": null,
      "metadata": {
        "colab": {
          "base_uri": "https://localhost:8080/"
        },
        "id": "Sx5QChPG5cg0",
        "outputId": "ea751b3b-acfe-43a5-a754-77666ad173e8"
      },
      "outputs": [
        {
          "output_type": "stream",
          "name": "stdout",
          "text": [
            "[1 2 3 4]\n",
            "<class 'numpy.ndarray'>\n"
          ]
        }
      ],
      "source": [
        "import numpy as np\n",
        "a = np.array([1,2,3,4])  #list\n",
        "print(a)\n",
        "print(type(a))"
      ]
    },
    {
      "cell_type": "code",
      "source": [
        "import numpy as np\n",
        "a = np.array((1,2,3,4))  #tuple\n",
        "print(a)\n",
        "print(type(a))"
      ],
      "metadata": {
        "colab": {
          "base_uri": "https://localhost:8080/"
        },
        "id": "cN29BV0l6pG_",
        "outputId": "f6523d0c-2da6-4cb7-8406-e2addbe70de2"
      },
      "execution_count": null,
      "outputs": [
        {
          "output_type": "stream",
          "name": "stdout",
          "text": [
            "[1 2 3 4]\n",
            "<class 'numpy.ndarray'>\n"
          ]
        }
      ]
    },
    {
      "cell_type": "code",
      "source": [
        "import numpy as np\n",
        "a = np.array(100)  #0Dimension\n",
        "print(a)\n",
        "print(\"Dimension : \", a.ndim)"
      ],
      "metadata": {
        "colab": {
          "base_uri": "https://localhost:8080/"
        },
        "id": "Ok3Wtx2e7MFv",
        "outputId": "b2ec8c98-86f2-4cbd-fa0f-132876f0fa31"
      },
      "execution_count": null,
      "outputs": [
        {
          "output_type": "stream",
          "name": "stdout",
          "text": [
            "100\n",
            "Dimension :  0\n"
          ]
        }
      ]
    },
    {
      "cell_type": "code",
      "source": [
        "import numpy as np\n",
        "a = np.array([100,200,300])  #1Dimension\n",
        "print(a)\n",
        "print(\"Dimension : \", a.ndim)"
      ],
      "metadata": {
        "colab": {
          "base_uri": "https://localhost:8080/"
        },
        "id": "vDwCOn4n7qeq",
        "outputId": "36402ae6-c0ff-4cae-e665-42f9d20ccd68"
      },
      "execution_count": null,
      "outputs": [
        {
          "output_type": "stream",
          "name": "stdout",
          "text": [
            "[100 200 300]\n",
            "Dimension :  1\n"
          ]
        }
      ]
    },
    {
      "cell_type": "code",
      "source": [
        "import numpy as np\n",
        "a = np.array([[100,200,300], [400,500,600]])  #2Dimension\n",
        "print(a)\n",
        "print(\"Dimension : \", a.ndim)"
      ],
      "metadata": {
        "colab": {
          "base_uri": "https://localhost:8080/"
        },
        "id": "vQLm7VCm74fO",
        "outputId": "1b1fbbb5-f39e-49f3-95b8-37ee5ddaa331"
      },
      "execution_count": null,
      "outputs": [
        {
          "output_type": "stream",
          "name": "stdout",
          "text": [
            "[[100 200 300]\n",
            " [400 500 600]]\n",
            "Dimension :  2\n"
          ]
        }
      ]
    },
    {
      "cell_type": "code",
      "source": [
        "import numpy as np\n",
        "a = np.array([[[100,200,300], [400,500,600]],[[100,200,300], [400,500,600]]])  #3Dimension\n",
        "print(a)\n",
        "print(\"Dimension : \", a.ndim)"
      ],
      "metadata": {
        "colab": {
          "base_uri": "https://localhost:8080/"
        },
        "id": "gULTp8He8gG9",
        "outputId": "68aa9c6f-b2e2-4f11-c74d-7ae5e6d56616"
      },
      "execution_count": null,
      "outputs": [
        {
          "output_type": "stream",
          "name": "stdout",
          "text": [
            "[[[100 200 300]\n",
            "  [400 500 600]]\n",
            "\n",
            " [[100 200 300]\n",
            "  [400 500 600]]]\n",
            "Dimension :  3\n"
          ]
        }
      ]
    },
    {
      "cell_type": "code",
      "source": [
        "import numpy as np\n",
        "a = np.zeros([2,3])\n",
        "print(a)"
      ],
      "metadata": {
        "colab": {
          "base_uri": "https://localhost:8080/"
        },
        "id": "5UpGh8Q9RZef",
        "outputId": "a1a9dcef-f43d-48a9-af46-e65749ce575e"
      },
      "execution_count": null,
      "outputs": [
        {
          "output_type": "stream",
          "name": "stdout",
          "text": [
            "[[0. 0. 0.]\n",
            " [0. 0. 0.]]\n"
          ]
        }
      ]
    },
    {
      "cell_type": "code",
      "source": [
        "import numpy as np\n",
        "a = np.arange(0 ,20, 3)\n",
        "print(a)"
      ],
      "metadata": {
        "colab": {
          "base_uri": "https://localhost:8080/"
        },
        "id": "zJmJd2FwR65K",
        "outputId": "a65c1cdd-4992-48de-ae07-290ec2dbb0b7"
      },
      "execution_count": null,
      "outputs": [
        {
          "output_type": "stream",
          "name": "stdout",
          "text": [
            "[ 0  3  6  9 12 15 18]\n"
          ]
        }
      ]
    },
    {
      "cell_type": "code",
      "source": [
        "import numpy as np    #slicing\n",
        "a = np.array([0,1,2,3,4,5,6,7,8,9])\n",
        "print(a[1:5])"
      ],
      "metadata": {
        "colab": {
          "base_uri": "https://localhost:8080/"
        },
        "id": "xvRJlClSSiCV",
        "outputId": "eaf31f06-5927-46ea-82f6-389e15854299"
      },
      "execution_count": 1,
      "outputs": [
        {
          "output_type": "stream",
          "name": "stdout",
          "text": [
            "[1 2 3 4]\n"
          ]
        }
      ]
    },
    {
      "cell_type": "code",
      "source": [
        "import numpy as np    #slicing\n",
        "a = np.array([0,1,2,3,4,5,6,7,8,9])\n",
        "print(a[:5])"
      ],
      "metadata": {
        "colab": {
          "base_uri": "https://localhost:8080/"
        },
        "id": "KscwPs4DS8ER",
        "outputId": "8d5c4f44-bd5b-422a-804c-f67e8ec4799e"
      },
      "execution_count": 2,
      "outputs": [
        {
          "output_type": "stream",
          "name": "stdout",
          "text": [
            "[0 1 2 3 4]\n"
          ]
        }
      ]
    },
    {
      "cell_type": "code",
      "source": [
        "import numpy as np    #slicing\n",
        "a = np.array([0,1,2,3,4,5,6,7,8,9])\n",
        "print(a[4:])"
      ],
      "metadata": {
        "colab": {
          "base_uri": "https://localhost:8080/"
        },
        "id": "pXWzxfdATAep",
        "outputId": "471e89fa-5e21-42ad-b2b9-e389e4f603c0"
      },
      "execution_count": 3,
      "outputs": [
        {
          "output_type": "stream",
          "name": "stdout",
          "text": [
            "[4 5 6 7 8 9]\n"
          ]
        }
      ]
    },
    {
      "cell_type": "code",
      "source": [
        "import numpy as np    #slicing\n",
        "a = np.array([0,1,2,3,4,5,6,7,8,9])\n",
        "print(a[-3:-1])"
      ],
      "metadata": {
        "colab": {
          "base_uri": "https://localhost:8080/"
        },
        "id": "DMOo36oATQSR",
        "outputId": "5c2ff833-8da5-4b39-cae9-3d942bad5718"
      },
      "execution_count": 4,
      "outputs": [
        {
          "output_type": "stream",
          "name": "stdout",
          "text": [
            "[7 8]\n"
          ]
        }
      ]
    },
    {
      "cell_type": "code",
      "source": [
        "import numpy as np    #slicing\n",
        "a = np.array([[100,200,300,400,500,600,700], [300,400,500,600,700,800,900]])  #2Dimension\n",
        "print(a[0, 2:5])"
      ],
      "metadata": {
        "colab": {
          "base_uri": "https://localhost:8080/"
        },
        "id": "g84nmmv_UFN4",
        "outputId": "d03c43b7-6eb2-4f2e-fbfe-0151fe82c79e"
      },
      "execution_count": 11,
      "outputs": [
        {
          "output_type": "stream",
          "name": "stdout",
          "text": [
            "[300 400 500]\n"
          ]
        }
      ]
    },
    {
      "cell_type": "code",
      "source": [
        "import numpy as np    # type conversion float to int\n",
        "a = np.array([1.1,2.1,3.1])\n",
        "print(a.astype('i'))"
      ],
      "metadata": {
        "colab": {
          "base_uri": "https://localhost:8080/"
        },
        "id": "34_RGz-PZa2h",
        "outputId": "b62e7e97-ad60-4537-df06-d70cc241b6b2"
      },
      "execution_count": 13,
      "outputs": [
        {
          "output_type": "stream",
          "name": "stdout",
          "text": [
            "[1 2 3]\n"
          ]
        }
      ]
    },
    {
      "cell_type": "code",
      "source": [
        "import numpy as np    # type conversion int to boolean\n",
        "a = np.array([1,0])\n",
        "print(a.astype('bool'))"
      ],
      "metadata": {
        "colab": {
          "base_uri": "https://localhost:8080/"
        },
        "id": "qRJ0XLgnaMrT",
        "outputId": "739058fd-5312-48d2-868b-0a5f8507208d"
      },
      "execution_count": 14,
      "outputs": [
        {
          "output_type": "stream",
          "name": "stdout",
          "text": [
            "[ True False]\n"
          ]
        }
      ]
    },
    {
      "cell_type": "code",
      "source": [
        "import numpy as np\n",
        "a = np.array([1,2,3,4])     # copy\n",
        "b = a.copy()\n",
        "print(a)\n",
        "print(b)\n",
        "\n",
        "a[1] = 20\n",
        "b[2] = 30\n",
        "print(a)\n",
        "print(b)"
      ],
      "metadata": {
        "colab": {
          "base_uri": "https://localhost:8080/"
        },
        "id": "AZ4HMEK-daAN",
        "outputId": "ac52aac3-c84b-44d6-ba81-8535560ac313"
      },
      "execution_count": 21,
      "outputs": [
        {
          "output_type": "stream",
          "name": "stdout",
          "text": [
            "[1 2 3 4]\n",
            "[1 2 3 4]\n",
            "[ 1 20  3  4]\n",
            "[ 1  2 30  4]\n"
          ]
        }
      ]
    },
    {
      "cell_type": "code",
      "source": [
        "import numpy as np\n",
        "a = np.array([1,2,3,4])     # view\n",
        "b = a.view()\n",
        "print(a)\n",
        "print(b)\n",
        "\n",
        "a[1] = 20\n",
        "print(a)\n",
        "print(b)\n",
        "\n",
        "b[1] = 10\n",
        "print(a)\n",
        "print(b)"
      ],
      "metadata": {
        "colab": {
          "base_uri": "https://localhost:8080/"
        },
        "id": "t_J3-Pc5eqrH",
        "outputId": "566685d4-cf0f-43ef-9eca-5e56c81f83ae"
      },
      "execution_count": 22,
      "outputs": [
        {
          "output_type": "stream",
          "name": "stdout",
          "text": [
            "[1 2 3 4]\n",
            "[1 2 3 4]\n",
            "[ 1 20  3  4]\n",
            "[ 1 20  3  4]\n",
            "[ 1 10  3  4]\n",
            "[ 1 10  3  4]\n"
          ]
        }
      ]
    },
    {
      "cell_type": "code",
      "source": [
        "import numpy as np\n",
        "a = np.array([[100,200,300], [400,500,600]])  # shape\n",
        "print(a.shape)"
      ],
      "metadata": {
        "colab": {
          "base_uri": "https://localhost:8080/"
        },
        "id": "CWQ99VRdhy3h",
        "outputId": "d641ade8-ed59-4504-b29f-e9b62f33c3b5"
      },
      "execution_count": 23,
      "outputs": [
        {
          "output_type": "stream",
          "name": "stdout",
          "text": [
            "(2, 3)\n"
          ]
        }
      ]
    },
    {
      "cell_type": "code",
      "source": [
        "import numpy as np      # convert 1D array into 2D array\n",
        "a = np.array([1,2,3,4,5,6,7,8,9,10,11,12])\n",
        "print(a.reshape(4,3))"
      ],
      "metadata": {
        "colab": {
          "base_uri": "https://localhost:8080/"
        },
        "id": "7Uwx3Jy7iT4l",
        "outputId": "a679a9a9-e4c7-4984-a003-bfe252d3a58b"
      },
      "execution_count": 24,
      "outputs": [
        {
          "output_type": "stream",
          "name": "stdout",
          "text": [
            "[[ 1  2  3]\n",
            " [ 4  5  6]\n",
            " [ 7  8  9]\n",
            " [10 11 12]]\n"
          ]
        }
      ]
    },
    {
      "cell_type": "code",
      "source": [
        "import numpy as np      # convert 1D array into 3D array\n",
        "a = np.array([1,2,3,4,5,6,7,8,9,10,11,12])\n",
        "print(a.reshape(2,3,2))"
      ],
      "metadata": {
        "colab": {
          "base_uri": "https://localhost:8080/"
        },
        "id": "n0gdlQhTi-3i",
        "outputId": "df02ed4b-811c-41ac-8bee-b3f322a3757c"
      },
      "execution_count": 25,
      "outputs": [
        {
          "output_type": "stream",
          "name": "stdout",
          "text": [
            "[[[ 1  2]\n",
            "  [ 3  4]\n",
            "  [ 5  6]]\n",
            "\n",
            " [[ 7  8]\n",
            "  [ 9 10]\n",
            "  [11 12]]]\n"
          ]
        }
      ]
    },
    {
      "cell_type": "code",
      "source": [
        "import numpy as np\n",
        "a = np.array([1,2,3,4,5,6,7,8])\n",
        "print(a.reshape(2,2,-1))"
      ],
      "metadata": {
        "colab": {
          "base_uri": "https://localhost:8080/"
        },
        "id": "dmbu7pSej0z2",
        "outputId": "913d5fa6-29ce-4ad7-be09-f0aaefdab410"
      },
      "execution_count": 27,
      "outputs": [
        {
          "output_type": "stream",
          "name": "stdout",
          "text": [
            "[[[1 2]\n",
            "  [3 4]]\n",
            "\n",
            " [[5 6]\n",
            "  [7 8]]]\n"
          ]
        }
      ]
    },
    {
      "cell_type": "code",
      "source": [
        "import numpy as np\n",
        "a = np.array([[100,200,300], [400,500,600]])  #Multi Dimension into 1D\n",
        "print(a.reshape(-1))"
      ],
      "metadata": {
        "colab": {
          "base_uri": "https://localhost:8080/"
        },
        "id": "16Ssm4uCkPL4",
        "outputId": "62cd2fd5-1018-4531-fbc3-e288626bc0c5"
      },
      "execution_count": 28,
      "outputs": [
        {
          "output_type": "stream",
          "name": "stdout",
          "text": [
            "[100 200 300 400 500 600]\n"
          ]
        }
      ]
    }
  ]
}