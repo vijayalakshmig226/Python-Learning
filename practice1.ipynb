{
  "nbformat": 4,
  "nbformat_minor": 0,
  "metadata": {
    "colab": {
      "provenance": [],
      "authorship_tag": "ABX9TyMti7niCjOa9N4CU6hKqPKi",
      "include_colab_link": true
    },
    "kernelspec": {
      "name": "python3",
      "display_name": "Python 3"
    },
    "language_info": {
      "name": "python"
    }
  },
  "cells": [
    {
      "cell_type": "markdown",
      "metadata": {
        "id": "view-in-github",
        "colab_type": "text"
      },
      "source": [
        "<a href=\"https://colab.research.google.com/github/vijayalakshmig226/Python-Learning/blob/main/practice1.ipynb\" target=\"_parent\"><img src=\"https://colab.research.google.com/assets/colab-badge.svg\" alt=\"Open In Colab\"/></a>"
      ]
    },
    {
      "cell_type": "code",
      "execution_count": null,
      "metadata": {
        "colab": {
          "base_uri": "https://localhost:8080/"
        },
        "id": "wSkn-oEEOnkQ",
        "outputId": "7a78d7ab-2c9c-4407-dfdc-24eb3fcc9286"
      },
      "outputs": [
        {
          "output_type": "stream",
          "name": "stdout",
          "text": [
            "Enter your name :ram\n",
            "welcom ram\n"
          ]
        }
      ],
      "source": [
        "name = input(\"Enter your name :\")\n",
        "print(\"welcom\", name)"
      ]
    },
    {
      "cell_type": "code",
      "source": [
        "a,b,c = 1,2,3\n",
        "print(a,b,c)"
      ],
      "metadata": {
        "colab": {
          "base_uri": "https://localhost:8080/"
        },
        "id": "tbng5P6CQUM-",
        "outputId": "d48269e8-2065-40b2-c3ac-7e2a9c9601c5"
      },
      "execution_count": null,
      "outputs": [
        {
          "output_type": "stream",
          "name": "stdout",
          "text": [
            "1 2 3\n"
          ]
        }
      ]
    },
    {
      "cell_type": "code",
      "source": [
        "a = 10\n",
        "print(a+10)"
      ],
      "metadata": {
        "colab": {
          "base_uri": "https://localhost:8080/"
        },
        "id": "Se2Bvg6cQimh",
        "outputId": "7fdb72f2-fd95-40e3-b812-9af321e63c83"
      },
      "execution_count": null,
      "outputs": [
        {
          "output_type": "stream",
          "name": "stdout",
          "text": [
            "20\n"
          ]
        }
      ]
    },
    {
      "cell_type": "code",
      "source": [
        "a = \"10\"\n",
        "b = int(a)\n",
        "print(b)\n",
        "print(type(b))"
      ],
      "metadata": {
        "colab": {
          "base_uri": "https://localhost:8080/"
        },
        "id": "Pk-2w8mWQxjV",
        "outputId": "fcc38d2e-439a-44af-e044-0a80befd397f"
      },
      "execution_count": null,
      "outputs": [
        {
          "output_type": "stream",
          "name": "stdout",
          "text": [
            "10\n",
            "<class 'int'>\n"
          ]
        }
      ]
    },
    {
      "cell_type": "code",
      "source": [
        "para=[]\n",
        "print(\"Enter a para\")\n",
        "\n",
        "while True:\n",
        "  line=input()\n",
        "  if line:\n",
        "    para.append(line)\n",
        "  else:\n",
        "    break\n",
        "    print(para)\n",
        "    output='\\n'.join(line)\n",
        "    print(output)"
      ],
      "metadata": {
        "id": "U6U3DZfBS5A8"
      },
      "execution_count": null,
      "outputs": []
    },
    {
      "cell_type": "code",
      "source": [
        "a= 5//2\n",
        "print(a)"
      ],
      "metadata": {
        "colab": {
          "base_uri": "https://localhost:8080/"
        },
        "id": "86Ot4FEhVDFK",
        "outputId": "5080a1fb-59d1-4816-a3bd-78e2eaa8dbda"
      },
      "execution_count": null,
      "outputs": [
        {
          "output_type": "stream",
          "name": "stdout",
          "text": [
            "2\n"
          ]
        }
      ]
    },
    {
      "cell_type": "code",
      "source": [
        "a = int(input(\"Enter the no: \"))\n",
        "if a%2==0:\n",
        "  print(a, \"is even\")\n",
        "else:\n",
        "  print(a, \"is odd\")"
      ],
      "metadata": {
        "colab": {
          "base_uri": "https://localhost:8080/"
        },
        "id": "4nivYwUXqhIi",
        "outputId": "cc86f473-3a3e-4dec-ab85-bbf54008b34e"
      },
      "execution_count": null,
      "outputs": [
        {
          "output_type": "stream",
          "name": "stdout",
          "text": [
            "Enter the no: 7\n",
            "7 is odd\n"
          ]
        }
      ]
    },
    {
      "cell_type": "code",
      "source": [
        "temperature = 22\n",
        "if temperature > 25:\n",
        "  print(\"its so hot\")\n",
        "\n",
        "else:\n",
        "  print(\"its a cool day\")"
      ],
      "metadata": {
        "colab": {
          "base_uri": "https://localhost:8080/"
        },
        "id": "db09rk3is_RR",
        "outputId": "438e7fad-c960-46ca-b9c2-4f86c42c1291"
      },
      "execution_count": null,
      "outputs": [
        {
          "output_type": "stream",
          "name": "stdout",
          "text": [
            "its a cool day\n"
          ]
        }
      ]
    },
    {
      "cell_type": "code",
      "source": [
        "mark = 75\n",
        "if mark >= 90:\n",
        "  print(\"Grade - A\")\n",
        "elif mark >= 80:\n",
        "  print(\"Grade - B\")\n",
        "elif mark >=70:\n",
        "  print(\"Grade - C\")\n",
        "elif mark >=60:\n",
        "  print(\"Grade - D\")\n",
        "else:\n",
        "  print(\"Grade - E\")\n",
        "\n"
      ],
      "metadata": {
        "colab": {
          "base_uri": "https://localhost:8080/"
        },
        "id": "NeaN0-Ibuhw_",
        "outputId": "eb3c388e-6c4e-4147-a45b-3b4a43f09958"
      },
      "execution_count": null,
      "outputs": [
        {
          "output_type": "stream",
          "name": "stdout",
          "text": [
            "Grade - C\n"
          ]
        }
      ]
    },
    {
      "cell_type": "code",
      "source": [
        "days = int(input(\"Enter the days: \"))\n",
        "if days == 0:\n",
        "  print(\"Good no fine\")\n",
        "elif days >=1 and days <=5:\n",
        "  print(\"Fine Amount: \", days*1)\n",
        "elif days >5 and days <= 10:\n",
        "  print(\"Fine amount: \", days*2)\n",
        "else:\n",
        "  print(\"membership cancel\")"
      ],
      "metadata": {
        "colab": {
          "base_uri": "https://localhost:8080/"
        },
        "id": "bjZORrUFxFgA",
        "outputId": "44a49020-a267-422c-98af-1e62a9faa40d"
      },
      "execution_count": null,
      "outputs": [
        {
          "output_type": "stream",
          "name": "stdout",
          "text": [
            "Enter the days: 6\n",
            "Fine amount:  12\n"
          ]
        }
      ]
    },
    {
      "cell_type": "code",
      "source": [
        "m1 = int(input(\"Enter mark1 :\"))\n",
        "m2 = int(input(\"Enter mark2 :\"))\n",
        "m3 = int(input(\"Enter mark3 :\"))\n",
        "total = m1+m2+m3\n",
        "average = total/3\n",
        "if m1>=35 and m2>=35 and m3>=35:\n",
        " print(\"pass\")\n",
        " if average >=90 and average <=100:\n",
        "  print(\"grade : a\")\n",
        " elif average >=80 and average <=89:\n",
        "  print(\"grade : b\")\n",
        " elif average >=70 and average <=79:\n",
        "  print(\"grade : c\")\n",
        " else:\n",
        "  print(\"grade: d\")\n",
        "else:\n",
        " print(\"fail\")\n",
        " print(\"no grade\")"
      ],
      "metadata": {
        "colab": {
          "base_uri": "https://localhost:8080/"
        },
        "id": "VfzJXm7cz29E",
        "outputId": "4e88c24e-b89c-4503-a1be-ca308a98aeb8"
      },
      "execution_count": null,
      "outputs": [
        {
          "output_type": "stream",
          "name": "stdout",
          "text": [
            "Enter mark1 :25\n",
            "Enter mark2 :35\n",
            "Enter mark3 :30\n",
            "fail\n",
            "no grade\n"
          ]
        }
      ]
    },
    {
      "cell_type": "code",
      "source": [
        "i = 10\n",
        "while i<=20:\n",
        "  print(i)\n",
        "  i += 2"
      ],
      "metadata": {
        "colab": {
          "base_uri": "https://localhost:8080/"
        },
        "id": "2IZK5P2qPfK-",
        "outputId": "6571a7f4-6fd3-4769-c150-c411b34e2b76"
      },
      "execution_count": null,
      "outputs": [
        {
          "output_type": "stream",
          "name": "stdout",
          "text": [
            "10\n",
            "12\n",
            "14\n",
            "16\n",
            "18\n",
            "20\n"
          ]
        }
      ]
    },
    {
      "cell_type": "code",
      "source": [
        "i = 1\n",
        "while i <= 20:\n",
        "  if i == 7:\n",
        "    break\n",
        "  print(i)\n",
        "  i += 1"
      ],
      "metadata": {
        "colab": {
          "base_uri": "https://localhost:8080/"
        },
        "id": "Wjo7_2RLQIWZ",
        "outputId": "09882c0e-d525-4e06-ceb2-e8cebf0dd0bd"
      },
      "execution_count": null,
      "outputs": [
        {
          "output_type": "stream",
          "name": "stdout",
          "text": [
            "1\n",
            "2\n",
            "3\n",
            "4\n",
            "5\n",
            "6\n"
          ]
        }
      ]
    },
    {
      "cell_type": "code",
      "source": [
        "print(list(range(5)))\n",
        "print(list(range(2,5)))\n",
        "print(list(range(0,21,2)))\n",
        "print(list(range(1,20,2)))"
      ],
      "metadata": {
        "colab": {
          "base_uri": "https://localhost:8080/"
        },
        "id": "vJdhfn82RgMZ",
        "outputId": "51b2bd15-4208-4258-8414-29056afd582b"
      },
      "execution_count": null,
      "outputs": [
        {
          "output_type": "stream",
          "name": "stdout",
          "text": [
            "[0, 1, 2, 3, 4]\n",
            "[2, 3, 4]\n",
            "[0, 2, 4, 6, 8, 10, 12, 14, 16, 18, 20]\n",
            "[1, 3, 5, 7, 9, 11, 13, 15, 17, 19]\n"
          ]
        }
      ]
    },
    {
      "cell_type": "code",
      "source": [
        "rows = 5\n",
        "for i in range(1, rows+1):\n",
        "  for j in range(1, i+1):\n",
        "    print(i, end = \" \")\n",
        "  print(\" \")\n"
      ],
      "metadata": {
        "id": "a6qeC7xH5wFQ",
        "outputId": "3192ed63-3077-4bd8-90c1-0a710ce1c006",
        "colab": {
          "base_uri": "https://localhost:8080/"
        }
      },
      "execution_count": 3,
      "outputs": [
        {
          "output_type": "stream",
          "name": "stdout",
          "text": [
            "1  \n",
            "2 2  \n",
            "3 3 3  \n",
            "4 4 4 4  \n",
            "5 5 5 5 5  \n"
          ]
        }
      ]
    }
  ]
}