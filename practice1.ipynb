{
  "nbformat": 4,
  "nbformat_minor": 0,
  "metadata": {
    "colab": {
      "provenance": [],
      "authorship_tag": "ABX9TyPFizJrnIaK5/HiJ4BOXxgh",
      "include_colab_link": true
    },
    "kernelspec": {
      "name": "python3",
      "display_name": "Python 3"
    },
    "language_info": {
      "name": "python"
    }
  },
  "cells": [
    {
      "cell_type": "markdown",
      "metadata": {
        "id": "view-in-github",
        "colab_type": "text"
      },
      "source": [
        "<a href=\"https://colab.research.google.com/github/vijayalakshmig226/Python-Learning/blob/main/practice1.ipynb\" target=\"_parent\"><img src=\"https://colab.research.google.com/assets/colab-badge.svg\" alt=\"Open In Colab\"/></a>"
      ]
    },
    {
      "cell_type": "code",
      "execution_count": null,
      "metadata": {
        "colab": {
          "base_uri": "https://localhost:8080/"
        },
        "id": "wSkn-oEEOnkQ",
        "outputId": "7a78d7ab-2c9c-4407-dfdc-24eb3fcc9286"
      },
      "outputs": [
        {
          "output_type": "stream",
          "name": "stdout",
          "text": [
            "Enter your name :ram\n",
            "welcom ram\n"
          ]
        }
      ],
      "source": [
        "name = input(\"Enter your name :\")\n",
        "print(\"welcom\", name)"
      ]
    },
    {
      "cell_type": "code",
      "source": [
        "Year = int(input(\"Enter the Year : \"))\n",
        "if Year%4 == 0:\n",
        "  print(\"Leap Year\")\n",
        "else:\n",
        "  print(\"Not Leap Year\")"
      ],
      "metadata": {
        "colab": {
          "base_uri": "https://localhost:8080/"
        },
        "id": "So9egTsAIz44",
        "outputId": "4588d695-6d6e-43d4-abaf-e7dfc3a527ff"
      },
      "execution_count": 6,
      "outputs": [
        {
          "output_type": "stream",
          "name": "stdout",
          "text": [
            "Enter the Year : 2025\n",
            "Not Leap Year\n"
          ]
        }
      ]
    },
    {
      "cell_type": "code",
      "source": [
        "a,b,c = 1,2,3\n",
        "print(a,b,c)"
      ],
      "metadata": {
        "colab": {
          "base_uri": "https://localhost:8080/"
        },
        "id": "tbng5P6CQUM-",
        "outputId": "d48269e8-2065-40b2-c3ac-7e2a9c9601c5"
      },
      "execution_count": null,
      "outputs": [
        {
          "output_type": "stream",
          "name": "stdout",
          "text": [
            "1 2 3\n"
          ]
        }
      ]
    },
    {
      "cell_type": "code",
      "source": [
        "a = 10\n",
        "print(a+10)"
      ],
      "metadata": {
        "colab": {
          "base_uri": "https://localhost:8080/"
        },
        "id": "Se2Bvg6cQimh",
        "outputId": "7fdb72f2-fd95-40e3-b812-9af321e63c83"
      },
      "execution_count": null,
      "outputs": [
        {
          "output_type": "stream",
          "name": "stdout",
          "text": [
            "20\n"
          ]
        }
      ]
    },
    {
      "cell_type": "code",
      "source": [
        "a = \"10\"\n",
        "b = int(a)\n",
        "print(b)\n",
        "print(type(b))"
      ],
      "metadata": {
        "colab": {
          "base_uri": "https://localhost:8080/"
        },
        "id": "Pk-2w8mWQxjV",
        "outputId": "fcc38d2e-439a-44af-e044-0a80befd397f"
      },
      "execution_count": null,
      "outputs": [
        {
          "output_type": "stream",
          "name": "stdout",
          "text": [
            "10\n",
            "<class 'int'>\n"
          ]
        }
      ]
    },
    {
      "cell_type": "code",
      "source": [
        "para=[]\n",
        "print(\"Enter a para\")\n",
        "\n",
        "while True:\n",
        "  line=input()\n",
        "  if line:\n",
        "    para.append(line)\n",
        "  else:\n",
        "    break\n",
        "    print(para)\n",
        "    output='\\n'.join(line)\n",
        "    print(output)"
      ],
      "metadata": {
        "id": "U6U3DZfBS5A8"
      },
      "execution_count": null,
      "outputs": []
    },
    {
      "cell_type": "code",
      "source": [
        "a= 5//2\n",
        "print(a)"
      ],
      "metadata": {
        "colab": {
          "base_uri": "https://localhost:8080/"
        },
        "id": "86Ot4FEhVDFK",
        "outputId": "5080a1fb-59d1-4816-a3bd-78e2eaa8dbda"
      },
      "execution_count": null,
      "outputs": [
        {
          "output_type": "stream",
          "name": "stdout",
          "text": [
            "2\n"
          ]
        }
      ]
    },
    {
      "cell_type": "code",
      "source": [
        "a = int(input(\"Enter the no: \"))\n",
        "if a%2==0:\n",
        "  print(a, \"is even\")\n",
        "else:\n",
        "  print(a, \"is odd\")"
      ],
      "metadata": {
        "colab": {
          "base_uri": "https://localhost:8080/"
        },
        "id": "4nivYwUXqhIi",
        "outputId": "cc86f473-3a3e-4dec-ab85-bbf54008b34e"
      },
      "execution_count": null,
      "outputs": [
        {
          "output_type": "stream",
          "name": "stdout",
          "text": [
            "Enter the no: 7\n",
            "7 is odd\n"
          ]
        }
      ]
    },
    {
      "cell_type": "code",
      "source": [
        "temperature = 22\n",
        "if temperature > 25:\n",
        "  print(\"its so hot\")\n",
        "\n",
        "else:\n",
        "  print(\"its a cool day\")"
      ],
      "metadata": {
        "colab": {
          "base_uri": "https://localhost:8080/"
        },
        "id": "db09rk3is_RR",
        "outputId": "438e7fad-c960-46ca-b9c2-4f86c42c1291"
      },
      "execution_count": null,
      "outputs": [
        {
          "output_type": "stream",
          "name": "stdout",
          "text": [
            "its a cool day\n"
          ]
        }
      ]
    },
    {
      "cell_type": "code",
      "source": [
        "mark = 75\n",
        "if mark >= 90:\n",
        "  print(\"Grade - A\")\n",
        "elif mark >= 80:\n",
        "  print(\"Grade - B\")\n",
        "elif mark >=70:\n",
        "  print(\"Grade - C\")\n",
        "elif mark >=60:\n",
        "  print(\"Grade - D\")\n",
        "else:\n",
        "  print(\"Grade - E\")\n",
        "\n"
      ],
      "metadata": {
        "colab": {
          "base_uri": "https://localhost:8080/"
        },
        "id": "NeaN0-Ibuhw_",
        "outputId": "eb3c388e-6c4e-4147-a45b-3b4a43f09958"
      },
      "execution_count": null,
      "outputs": [
        {
          "output_type": "stream",
          "name": "stdout",
          "text": [
            "Grade - C\n"
          ]
        }
      ]
    },
    {
      "cell_type": "code",
      "source": [
        "days = int(input(\"Enter the days: \"))\n",
        "if days == 0:\n",
        "  print(\"Good no fine\")\n",
        "elif days >=1 and days <=5:\n",
        "  print(\"Fine Amount: \", days*1)\n",
        "elif days >5 and days <= 10:\n",
        "  print(\"Fine amount: \", days*2)\n",
        "else:\n",
        "  print(\"membership cancel\")"
      ],
      "metadata": {
        "colab": {
          "base_uri": "https://localhost:8080/"
        },
        "id": "bjZORrUFxFgA",
        "outputId": "44a49020-a267-422c-98af-1e62a9faa40d"
      },
      "execution_count": null,
      "outputs": [
        {
          "output_type": "stream",
          "name": "stdout",
          "text": [
            "Enter the days: 6\n",
            "Fine amount:  12\n"
          ]
        }
      ]
    },
    {
      "cell_type": "code",
      "source": [
        "m1 = int(input(\"Enter mark1 :\"))\n",
        "m2 = int(input(\"Enter mark2 :\"))\n",
        "m3 = int(input(\"Enter mark3 :\"))\n",
        "total = m1+m2+m3\n",
        "average = total/3\n",
        "if m1>=35 and m2>=35 and m3>=35:\n",
        " print(\"pass\")\n",
        " if average >=90 and average <=100:\n",
        "  print(\"grade : a\")\n",
        " elif average >=80 and average <=89:\n",
        "  print(\"grade : b\")\n",
        " elif average >=70 and average <=79:\n",
        "  print(\"grade : c\")\n",
        " else:\n",
        "  print(\"grade: d\")\n",
        "else:\n",
        " print(\"fail\")\n",
        " print(\"no grade\")"
      ],
      "metadata": {
        "colab": {
          "base_uri": "https://localhost:8080/"
        },
        "id": "VfzJXm7cz29E",
        "outputId": "4e88c24e-b89c-4503-a1be-ca308a98aeb8"
      },
      "execution_count": null,
      "outputs": [
        {
          "output_type": "stream",
          "name": "stdout",
          "text": [
            "Enter mark1 :25\n",
            "Enter mark2 :35\n",
            "Enter mark3 :30\n",
            "fail\n",
            "no grade\n"
          ]
        }
      ]
    },
    {
      "cell_type": "code",
      "source": [
        "i = 10\n",
        "while i<=20:\n",
        "  print(i)\n",
        "  i += 2"
      ],
      "metadata": {
        "colab": {
          "base_uri": "https://localhost:8080/"
        },
        "id": "2IZK5P2qPfK-",
        "outputId": "6571a7f4-6fd3-4769-c150-c411b34e2b76"
      },
      "execution_count": null,
      "outputs": [
        {
          "output_type": "stream",
          "name": "stdout",
          "text": [
            "10\n",
            "12\n",
            "14\n",
            "16\n",
            "18\n",
            "20\n"
          ]
        }
      ]
    },
    {
      "cell_type": "code",
      "source": [
        "i = 1\n",
        "while i <= 20:\n",
        "  if i == 7:\n",
        "    break\n",
        "  print(i)\n",
        "  i += 1"
      ],
      "metadata": {
        "colab": {
          "base_uri": "https://localhost:8080/"
        },
        "id": "Wjo7_2RLQIWZ",
        "outputId": "09882c0e-d525-4e06-ceb2-e8cebf0dd0bd"
      },
      "execution_count": null,
      "outputs": [
        {
          "output_type": "stream",
          "name": "stdout",
          "text": [
            "1\n",
            "2\n",
            "3\n",
            "4\n",
            "5\n",
            "6\n"
          ]
        }
      ]
    },
    {
      "cell_type": "code",
      "source": [
        "print(list(range(5)))\n",
        "print(list(range(2,5)))\n",
        "print(list(range(0,21,2)))\n",
        "print(list(range(1,20,2)))"
      ],
      "metadata": {
        "colab": {
          "base_uri": "https://localhost:8080/"
        },
        "id": "vJdhfn82RgMZ",
        "outputId": "51b2bd15-4208-4258-8414-29056afd582b"
      },
      "execution_count": null,
      "outputs": [
        {
          "output_type": "stream",
          "name": "stdout",
          "text": [
            "[0, 1, 2, 3, 4]\n",
            "[2, 3, 4]\n",
            "[0, 2, 4, 6, 8, 10, 12, 14, 16, 18, 20]\n",
            "[1, 3, 5, 7, 9, 11, 13, 15, 17, 19]\n"
          ]
        }
      ]
    },
    {
      "cell_type": "code",
      "source": [
        "class employee():\n",
        "  name = 'Ram'\n",
        "  age = 25\n",
        "print(getattr(employee,'name'))\n",
        "\n",
        "print(employee.name)\n",
        "\n",
        "setattr(employee, 'age', 22)\n",
        "print(employee.age)\n",
        "\n",
        "setattr(employee, 'name', 'sita')\n",
        "print(getattr(employee, 'name'))\n",
        "\n",
        "employee.city = 'Chennai'\n",
        "print(getattr(employee, 'city'))\n",
        "\n",
        "\n",
        "print(employee.__dict__)\n",
        "delattr(employee, 'city')\n",
        "print(employee.__dict__)\n"
      ],
      "metadata": {
        "id": "MuB1bZ8mSBoG",
        "outputId": "ebab03b4-c85a-4e56-b532-8d47013a4c53",
        "colab": {
          "base_uri": "https://localhost:8080/"
        }
      },
      "execution_count": 21,
      "outputs": [
        {
          "output_type": "stream",
          "name": "stdout",
          "text": [
            "Ram\n",
            "Ram\n",
            "22\n",
            "sita\n",
            "Chennai\n",
            "{'__module__': '__main__', 'name': 'sita', 'age': 22, '__dict__': <attribute '__dict__' of 'employee' objects>, '__weakref__': <attribute '__weakref__' of 'employee' objects>, '__doc__': None, 'city': 'Chennai'}\n",
            "{'__module__': '__main__', 'name': 'sita', 'age': 22, '__dict__': <attribute '__dict__' of 'employee' objects>, '__weakref__': <attribute '__weakref__' of 'employee' objects>, '__doc__': None}\n"
          ]
        }
      ]
    },
    {
      "cell_type": "code",
      "source": [
        "for i in range(5):\n",
        "  a = int(input(\"Enter a no : \"))\n",
        "  b = int(input(\"Enter a no : \"))\n",
        "  print(a+b)"
      ],
      "metadata": {
        "colab": {
          "base_uri": "https://localhost:8080/"
        },
        "id": "_OnjUcb2OUE0",
        "outputId": "06b24106-6fbf-446e-d5e3-e0c9bcc7b982"
      },
      "execution_count": 8,
      "outputs": [
        {
          "output_type": "stream",
          "name": "stdout",
          "text": [
            "Enter a no : 4\n",
            "Enter a no : 7\n",
            "11\n",
            "Enter a no : 7\n",
            "Enter a no : 9\n",
            "16\n",
            "Enter a no : 67\n",
            "Enter a no : 78\n",
            "145\n",
            "Enter a no : 78\n",
            "Enter a no : 589\n",
            "667\n",
            "Enter a no : 9089\n",
            "Enter a no : 878\n",
            "9967\n"
          ]
        }
      ]
    },
    {
      "cell_type": "code",
      "source": [
        "# class method\n",
        "class student:\n",
        "  name = 'ram'\n",
        "  age = 22\n",
        "  def printall():\n",
        "    print(\"name : \", student.name)\n",
        "    print(\"age : \", student.age)\n",
        "\n",
        "student.printall()\n",
        "print(student.__dict__)\n",
        "\n",
        "print(getattr(student,\"printall\"))\n",
        "getattr(student,\"printall\")()"
      ],
      "metadata": {
        "id": "Vqk1l2HdwYdk",
        "outputId": "0ae56218-9e3d-4493-c573-114805dc6dc3",
        "colab": {
          "base_uri": "https://localhost:8080/"
        }
      },
      "execution_count": 25,
      "outputs": [
        {
          "output_type": "stream",
          "name": "stdout",
          "text": [
            "name :  ram\n",
            "age :  22\n",
            "{'__module__': '__main__', 'name': 'ram', 'age': 22, 'printall': <function student.printall at 0x7dbabb6e09a0>, '__dict__': <attribute '__dict__' of 'student' objects>, '__weakref__': <attribute '__weakref__' of 'student' objects>, '__doc__': None}\n",
            "<function student.printall at 0x7dbabb6e09a0>\n",
            "name :  ram\n",
            "age :  22\n"
          ]
        }
      ]
    },
    {
      "cell_type": "code",
      "source": [
        "a = 10\n",
        "for i in range(1, a+1):\n",
        "  for j in range(1, i+1):\n",
        "    print(j, end = \" \")\n",
        "  print(\" \")\n"
      ],
      "metadata": {
        "colab": {
          "base_uri": "https://localhost:8080/"
        },
        "id": "a6qeC7xH5wFQ",
        "outputId": "e0027cfc-3b7d-440a-e10c-6d94a19e2804"
      },
      "execution_count": 9,
      "outputs": [
        {
          "output_type": "stream",
          "name": "stdout",
          "text": [
            "1  \n",
            "1 2  \n",
            "1 2 3  \n",
            "1 2 3 4  \n",
            "1 2 3 4 5  \n",
            "1 2 3 4 5 6  \n",
            "1 2 3 4 5 6 7  \n",
            "1 2 3 4 5 6 7 8  \n",
            "1 2 3 4 5 6 7 8 9  \n",
            "1 2 3 4 5 6 7 8 9 10  \n"
          ]
        }
      ]
    },
    {
      "cell_type": "code",
      "source": [
        "for i in range(8):\n",
        "  for j in range(i):\n",
        "    print(\"*\", end = \"\")\n",
        "  print(\" \")"
      ],
      "metadata": {
        "colab": {
          "base_uri": "https://localhost:8080/"
        },
        "id": "k5Wr8DJC9A5x",
        "outputId": "777b078d-ea23-4d49-81a5-b0e681fe42cc"
      },
      "execution_count": 11,
      "outputs": [
        {
          "output_type": "stream",
          "name": "stdout",
          "text": [
            " \n",
            "* \n",
            "** \n",
            "*** \n",
            "**** \n",
            "***** \n",
            "****** \n",
            "******* \n"
          ]
        }
      ]
    },
    {
      "cell_type": "code",
      "source": [
        "for i in range(8,0,-1):\n",
        "  for j in range(i):\n",
        "    print(\"*\", end = \" \")\n",
        "  print(\" \")"
      ],
      "metadata": {
        "colab": {
          "base_uri": "https://localhost:8080/"
        },
        "id": "a5X_gYbf_L1V",
        "outputId": "8da2b35d-423c-482f-d599-9b2629bb21eb"
      },
      "execution_count": 14,
      "outputs": [
        {
          "output_type": "stream",
          "name": "stdout",
          "text": [
            "* * * * * * * *  \n",
            "* * * * * * *  \n",
            "* * * * * *  \n",
            "* * * * *  \n",
            "* * * *  \n",
            "* * *  \n",
            "* *  \n",
            "*  \n"
          ]
        }
      ]
    },
    {
      "cell_type": "code",
      "source": [
        "n = 5\n",
        "for i in range(n):\n",
        "    for j in range(n - i - 1):\n",
        "        print(\" \", end=\"\")\n",
        "    for k in range(2 * i + 1):\n",
        "        print(\"*\", end=\"\")\n",
        "    print()\n",
        "for i in range(1,n):\n",
        "    for j in range(i):\n",
        "        print(\" \", end=\"\")\n",
        "    for j in range(2*(n-i)-1):\n",
        "        print(\"*\", end=\"\")\n",
        "    print()"
      ],
      "metadata": {
        "colab": {
          "base_uri": "https://localhost:8080/"
        },
        "id": "_7OHU0IRAbnx",
        "outputId": "1e24e7d7-d69b-43a5-cfef-713976a5ddb8"
      },
      "execution_count": 15,
      "outputs": [
        {
          "output_type": "stream",
          "name": "stdout",
          "text": [
            "    *\n",
            "   ***\n",
            "  *****\n",
            " *******\n",
            "*********\n",
            " *******\n",
            "  *****\n",
            "   ***\n",
            "    *\n"
          ]
        }
      ]
    }
  ]
}