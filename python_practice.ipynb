{
  "cells": [
    {
      "cell_type": "markdown",
      "metadata": {
        "id": "view-in-github",
        "colab_type": "text"
      },
      "source": [
        "<a href=\"https://colab.research.google.com/github/vijayalakshmig226/Python-Learning/blob/main/python_practice.ipynb\" target=\"_parent\"><img src=\"https://colab.research.google.com/assets/colab-badge.svg\" alt=\"Open In Colab\"/></a>"
      ]
    },
    {
      "cell_type": "markdown",
      "source": [
        "# User Input"
      ],
      "metadata": {
        "id": "ZjyJapCcqj9E"
      }
    },
    {
      "cell_type": "code",
      "source": [
        "name=input(\"Enter the name : \")\n",
        "print(name)\n",
        "print(type(name))\n",
        "\n",
        "a=int(input(\"Enter a value of a : \"))\n",
        "b=int(input(\"Enter a value of b : \"))\n",
        "c=a+b\n",
        "print(\"Total : \", c)\n",
        "print(type(c))\n",
        "\n",
        "a=float(input(\"Enter a value of a : \"))\n",
        "b=float(input(\"Enter a value of b : \"))\n",
        "c=a+b\n",
        "print(\"Total : \",c)\n",
        "print(type(c))"
      ],
      "metadata": {
        "colab": {
          "base_uri": "https://localhost:8080/"
        },
        "id": "r-0aqpWuqpU1",
        "outputId": "d1cbfe3a-cccb-4a28-d142-115075be3830"
      },
      "execution_count": null,
      "outputs": [
        {
          "output_type": "stream",
          "name": "stdout",
          "text": [
            "Enter the name : Ram\n",
            "Ram\n",
            "<class 'str'>\n",
            "Enter a value of a : 98\n",
            "Enter a value of b : 89\n",
            "Total :  187\n",
            "<class 'int'>\n",
            "Enter a value of a : 97\n",
            "Enter a value of b : 96\n",
            "Total :  193.0\n",
            "<class 'float'>\n"
          ]
        }
      ]
    },
    {
      "cell_type": "markdown",
      "source": [
        "# Getting Multiline Input"
      ],
      "metadata": {
        "id": "1YjrfuROstUi"
      }
    },
    {
      "cell_type": "code",
      "source": [
        "para=[]\n",
        "print(\"Enter a para\")\n",
        "\n",
        "while True:\n",
        "  line=input()\n",
        "  if line:\n",
        "    para.append(line)\n",
        "  else:\n",
        "    break\n",
        "    print(para)\n",
        "    output='\\n'.join(line)\n",
        "    print(output)"
      ],
      "metadata": {
        "colab": {
          "base_uri": "https://localhost:8080/"
        },
        "id": "I4Kh5quQtTxX",
        "outputId": "bf885c68-71ff-46af-db9f-e9e1558062f4"
      },
      "execution_count": null,
      "outputs": [
        {
          "name": "stdout",
          "output_type": "stream",
          "text": [
            "Enter a para\n",
            "Ram is good\n",
            "Sita is good\n",
            "\n"
          ]
        }
      ]
    },
    {
      "cell_type": "markdown",
      "source": [
        "# Type Casting"
      ],
      "metadata": {
        "id": "V1o2bPFduPSG"
      }
    },
    {
      "cell_type": "code",
      "source": [
        "a=99.9\n",
        "print(a)\n",
        "print(type(a))\n",
        "b=int(a)\n",
        "print(b)\n",
        "print(type(b))"
      ],
      "metadata": {
        "colab": {
          "base_uri": "https://localhost:8080/"
        },
        "id": "Vc9XOsRIuUVC",
        "outputId": "3e61144a-90b7-4acd-ee55-0cb3ecb1a1ce"
      },
      "execution_count": null,
      "outputs": [
        {
          "output_type": "stream",
          "name": "stdout",
          "text": [
            "99.9\n",
            "<class 'float'>\n",
            "99\n",
            "<class 'int'>\n"
          ]
        }
      ]
    },
    {
      "cell_type": "markdown",
      "source": [
        "# String And String Function"
      ],
      "metadata": {
        "id": "5sjR1ytg4cR-"
      }
    },
    {
      "cell_type": "code",
      "source": [
        "s = \"Ram kumar\"\n",
        "print(s)\n",
        "print(type(s))\n",
        "print(s.upper())\n",
        "print(s.lower())\n",
        "print(s.capitalize())\n",
        "print(s.title())\n",
        "print(s.count(\"a\"))\n",
        "print(s.endswith(\"ar\"))\n",
        "print(s.find(\"m\"))\n",
        "print(s.find(\"m\", 5))\n",
        "print(s.replace(\"m\", 'w'))\n",
        "a = \"Ram1234\"\n",
        "print(\"Is Upper : \", a.isupper())\n",
        "print(\"Is Lower : \", a.islower())\n",
        "print(\"Is Alpha Numeric : \", a.isalnum())\n",
        "print(\"Is Alpha : \", a.isalpha())\n",
        "s = \"he\\nis\\ngood\"\n",
        "print(s)\n",
        "print(s.splitlines())\n",
        "print(s.splitlines(True))\n",
        "a = \"Ram is from chennai\"\n",
        "print(a.split(\" \"))\n",
        "a = \"Ram,is,from,chennai\"\n",
        "print(a.split(\",\"))\n",
        "s=\"    Ram     \"\n",
        "print(len(s))\n",
        "print(len(s.strip()))\n",
        "print(len(s.lstrip()))\n",
        "print(len(s.rstrip()))\n",
        "s='01-01-2025'\n",
        "print(s.partition('-'))"
      ],
      "metadata": {
        "id": "Yas7Kwqd4c1K",
        "outputId": "6a99b005-06c7-4e3f-af4a-83cc7a48d100",
        "colab": {
          "base_uri": "https://localhost:8080/"
        }
      },
      "execution_count": null,
      "outputs": [
        {
          "output_type": "stream",
          "name": "stdout",
          "text": [
            "Ram kumar\n",
            "<class 'str'>\n",
            "RAM KUMAR\n",
            "ram kumar\n",
            "Ram kumar\n",
            "Ram Kumar\n",
            "2\n",
            "True\n",
            "2\n",
            "6\n",
            "Raw kuwar\n",
            "Is Upper :  False\n",
            "Is Lower :  False\n",
            "Is Alpha Numeric :  True\n",
            "Is Alpha :  False\n",
            "he\n",
            "is\n",
            "good\n",
            "['he', 'is', 'good']\n",
            "['he\\n', 'is\\n', 'good']\n",
            "['Ram', 'is', 'from', 'chennai']\n",
            "['Ram', 'is', 'from', 'chennai']\n",
            "12\n",
            "3\n",
            "8\n",
            "7\n",
            "('01', '-', '01-2025')\n"
          ]
        }
      ]
    },
    {
      "cell_type": "markdown",
      "source": [
        "# String Manipulation"
      ],
      "metadata": {
        "id": "xRaXwa7QDVHz"
      }
    },
    {
      "cell_type": "code",
      "source": [
        "s= \"sample\"\n",
        "print(s)\n",
        "print(s[0:2])\n",
        "print(s[:5])\n",
        "print(s[1:])\n",
        "print(s[-1])\n",
        "print(s[-2:-1])\n",
        "print(s[:-1])\n",
        "print(s[::-1])\n"
      ],
      "metadata": {
        "colab": {
          "base_uri": "https://localhost:8080/"
        },
        "id": "CQDnSQVtDdAx",
        "outputId": "2b15dc0e-6b79-40ad-a936-7bc2dbf335c1"
      },
      "execution_count": null,
      "outputs": [
        {
          "output_type": "stream",
          "name": "stdout",
          "text": [
            "sample\n",
            "sa\n",
            "sampl\n",
            "ample\n",
            "e\n",
            "l\n",
            "sampl\n",
            "elpmas\n"
          ]
        }
      ]
    },
    {
      "cell_type": "markdown",
      "source": [
        "# Arithmetic Operator"
      ],
      "metadata": {
        "id": "eAgufuFB8MEn"
      }
    },
    {
      "cell_type": "code",
      "source": [
        "\"\"\"\n",
        "+  Addition\n",
        "-  Subtraction\n",
        "*  Multiplication\n",
        "/  Division\n",
        "%  Modulus\n",
        "** Exponentiation\n",
        "// Floor division\n",
        "\"\"\"\n",
        "\n",
        "a=6\n",
        "b=5\n",
        "print(a+b)\n",
        "print(a-b)\n",
        "print(a*b)\n",
        "print(a/b)\n",
        "print(a//b)\n",
        "print(a%b)\n",
        "print(2**3)\n"
      ],
      "metadata": {
        "colab": {
          "base_uri": "https://localhost:8080/"
        },
        "id": "YXBKvZpF8YGu",
        "outputId": "924fd6b6-727d-4a35-e239-d0e71bd1d88a"
      },
      "execution_count": 3,
      "outputs": [
        {
          "output_type": "stream",
          "name": "stdout",
          "text": [
            "11\n",
            "1\n",
            "30\n",
            "1.2\n",
            "1\n",
            "1\n",
            "8\n"
          ]
        }
      ]
    },
    {
      "cell_type": "markdown",
      "source": [
        "# Assignment Operator"
      ],
      "metadata": {
        "id": "cX4xLzriCCE9"
      }
    },
    {
      "cell_type": "code",
      "source": [
        "\"\"\"\n",
        "=   Assignment\n",
        "+=\tAddition\n",
        "-=\tSubtraction\n",
        "*=\tMultiplication\n",
        "/=\tDivision\n",
        "%=\tModulus\n",
        "**=\tExponentiation\n",
        "//=\tFloor division\n",
        "\"\"\"\n",
        "\n",
        "a = 125\n",
        "print(a)\n",
        "a += 10\n",
        "print(a)\n",
        "a -=10\n",
        "print(a)\n",
        "a *= 10\n",
        "print(a)\n",
        "a /= 10\n",
        "print(a)\n",
        "a %= 10\n",
        "print(a)\n",
        "a **= 2\n",
        "print(a)\n",
        "a //= 10\n",
        "print(a)\n",
        "\n"
      ],
      "metadata": {
        "colab": {
          "base_uri": "https://localhost:8080/"
        },
        "id": "O3t_MEkCCHJE",
        "outputId": "e3ae36ac-3a51-485a-9336-aab58924ed0b"
      },
      "execution_count": 12,
      "outputs": [
        {
          "output_type": "stream",
          "name": "stdout",
          "text": [
            "125\n",
            "135\n",
            "125\n",
            "1250\n",
            "125.0\n",
            "5.0\n",
            "25.0\n",
            "2.0\n"
          ]
        }
      ]
    },
    {
      "cell_type": "markdown",
      "source": [
        "# Comparision or Relational Operator"
      ],
      "metadata": {
        "id": "n37oT2WPFaG2"
      }
    },
    {
      "cell_type": "code",
      "source": [
        "\"\"\"\n",
        "==\tEqual\n",
        "!=\tNot equal\n",
        ">\tGreater than\n",
        "<\tLess than\n",
        ">=\tGreater than or equal to\n",
        "<=\tLess than or equal to\n",
        "\n",
        "\"\"\"\n",
        "\n",
        "a = 10\n",
        "b = 20\n",
        "print(a == b)\n",
        "print(a != b)\n",
        "print(a > b)\n",
        "print(a < b)\n",
        "print(a >= b)\n",
        "print(a <= b)\n"
      ],
      "metadata": {
        "colab": {
          "base_uri": "https://localhost:8080/"
        },
        "id": "WpJfAc3rFp_X",
        "outputId": "93110213-1928-40b2-ef05-32556fce284e"
      },
      "execution_count": 13,
      "outputs": [
        {
          "output_type": "stream",
          "name": "stdout",
          "text": [
            "False\n",
            "True\n",
            "False\n",
            "True\n",
            "False\n",
            "True\n"
          ]
        }
      ]
    },
    {
      "cell_type": "markdown",
      "source": [
        "# Logical Operator"
      ],
      "metadata": {
        "id": "gviEHm7wGvE9"
      }
    },
    {
      "cell_type": "code",
      "source": [
        "\"\"\"\n",
        "and\n",
        "or\n",
        "not\n",
        "\"\"\"\n",
        "\n",
        "a = 20\n",
        "print(a >= 10 and a <= 15)\n",
        "print(a >=10 or a<= 25)\n",
        "print(not(a >= 10 and a <= 25))\n"
      ],
      "metadata": {
        "colab": {
          "base_uri": "https://localhost:8080/"
        },
        "id": "NbLA7JVTGz0N",
        "outputId": "499c73e1-b792-482c-a63d-fe617c0e3020"
      },
      "execution_count": 19,
      "outputs": [
        {
          "output_type": "stream",
          "name": "stdout",
          "text": [
            "False\n",
            "True\n",
            "False\n"
          ]
        }
      ]
    },
    {
      "cell_type": "markdown",
      "source": [
        "# Bitwise Opertaor"
      ],
      "metadata": {
        "id": "Pk6R_7RBIzhJ"
      }
    },
    {
      "cell_type": "code",
      "source": [
        "\"\"\"\n",
        "& \tAND\n",
        "|\tOR\n",
        "^\tXOR\n",
        "~ \tNOT\n",
        "<<\tZero fill left shift\n",
        ">>\tSigned right shift\n",
        "\"\"\"\n",
        "\n"
      ],
      "metadata": {
        "id": "xdo3qfjZI0Od"
      },
      "execution_count": null,
      "outputs": []
    }
  ],
  "metadata": {
    "colab": {
      "toc_visible": true,
      "provenance": [],
      "include_colab_link": true
    },
    "kernelspec": {
      "display_name": "Python 3",
      "name": "python3"
    }
  },
  "nbformat": 4,
  "nbformat_minor": 0
}