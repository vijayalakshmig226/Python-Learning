{
  "cells": [
    {
      "cell_type": "markdown",
      "metadata": {
        "id": "view-in-github",
        "colab_type": "text"
      },
      "source": [
        "<a href=\"https://colab.research.google.com/github/vijayalakshmig226/Python-Learning/blob/main/python_practice.ipynb\" target=\"_parent\"><img src=\"https://colab.research.google.com/assets/colab-badge.svg\" alt=\"Open In Colab\"/></a>"
      ]
    },
    {
      "cell_type": "markdown",
      "source": [
        "# User Input"
      ],
      "metadata": {
        "id": "ZjyJapCcqj9E"
      }
    },
    {
      "cell_type": "code",
      "source": [
        "name=input(\"Enter the name : \")\n",
        "print(name)\n",
        "print(type(name))\n",
        "\n",
        "a=int(input(\"Enter a value of a : \"))\n",
        "b=int(input(\"Enter a value of b : \"))\n",
        "c=a+b\n",
        "print(\"Total : \", c)\n",
        "print(type(c))\n",
        "\n",
        "a=float(input(\"Enter a value of a : \"))\n",
        "b=float(input(\"Enter a value of b : \"))\n",
        "c=a+b\n",
        "print(\"Total : \",c)\n",
        "print(type(c))"
      ],
      "metadata": {
        "colab": {
          "base_uri": "https://localhost:8080/"
        },
        "id": "r-0aqpWuqpU1",
        "outputId": "d1cbfe3a-cccb-4a28-d142-115075be3830"
      },
      "execution_count": null,
      "outputs": [
        {
          "output_type": "stream",
          "name": "stdout",
          "text": [
            "Enter the name : Ram\n",
            "Ram\n",
            "<class 'str'>\n",
            "Enter a value of a : 98\n",
            "Enter a value of b : 89\n",
            "Total :  187\n",
            "<class 'int'>\n",
            "Enter a value of a : 97\n",
            "Enter a value of b : 96\n",
            "Total :  193.0\n",
            "<class 'float'>\n"
          ]
        }
      ]
    },
    {
      "cell_type": "markdown",
      "source": [
        "# Getting Multiline Input"
      ],
      "metadata": {
        "id": "1YjrfuROstUi"
      }
    },
    {
      "cell_type": "code",
      "source": [
        "para=[]\n",
        "print(\"Enter a para\")\n",
        "\n",
        "while True:\n",
        "  line=input()\n",
        "  if line:\n",
        "    para.append(line)\n",
        "  else:\n",
        "    break\n",
        "    print(para)\n",
        "    output='\\n'.join(line)\n",
        "    print(output)"
      ],
      "metadata": {
        "colab": {
          "base_uri": "https://localhost:8080/"
        },
        "id": "I4Kh5quQtTxX",
        "outputId": "bf885c68-71ff-46af-db9f-e9e1558062f4"
      },
      "execution_count": null,
      "outputs": [
        {
          "name": "stdout",
          "output_type": "stream",
          "text": [
            "Enter a para\n",
            "Ram is good\n",
            "Sita is good\n",
            "\n"
          ]
        }
      ]
    },
    {
      "cell_type": "markdown",
      "source": [
        "# Type Casting"
      ],
      "metadata": {
        "id": "V1o2bPFduPSG"
      }
    },
    {
      "cell_type": "code",
      "source": [
        "a=99.9\n",
        "print(a)\n",
        "print(type(a))\n",
        "b=int(a)\n",
        "print(b)\n",
        "print(type(b))"
      ],
      "metadata": {
        "colab": {
          "base_uri": "https://localhost:8080/"
        },
        "id": "Vc9XOsRIuUVC",
        "outputId": "3e61144a-90b7-4acd-ee55-0cb3ecb1a1ce"
      },
      "execution_count": null,
      "outputs": [
        {
          "output_type": "stream",
          "name": "stdout",
          "text": [
            "99.9\n",
            "<class 'float'>\n",
            "99\n",
            "<class 'int'>\n"
          ]
        }
      ]
    },
    {
      "cell_type": "markdown",
      "source": [
        "# String And String Function"
      ],
      "metadata": {
        "id": "5sjR1ytg4cR-"
      }
    },
    {
      "cell_type": "code",
      "source": [
        "s = \"Ram kumar\"\n",
        "print(s)\n",
        "print(type(s))\n",
        "print(s.upper())\n",
        "print(s.lower())\n",
        "print(s.capitalize())\n",
        "print(s.title())\n",
        "print(s.count(\"a\"))\n",
        "print(s.endswith(\"ar\"))\n",
        "print(s.find(\"m\"))\n",
        "print(s.find(\"m\", 5))\n",
        "print(s.replace(\"m\", 'w'))\n",
        "a = \"Ram1234\"\n",
        "print(\"Is Upper : \", a.isupper())\n",
        "print(\"Is Lower : \", a.islower())\n",
        "print(\"Is Alpha Numeric : \", a.isalnum())\n",
        "print(\"Is Alpha : \", a.isalpha())\n",
        "s = \"he\\nis\\ngood\"\n",
        "print(s)\n",
        "print(s.splitlines())\n",
        "print(s.splitlines(True))\n",
        "a = \"Ram is from chennai\"\n",
        "print(a.split(\" \"))\n",
        "a = \"Ram,is,from,chennai\"\n",
        "print(a.split(\",\"))\n",
        "s=\"    Ram     \"\n",
        "print(len(s))\n",
        "print(len(s.strip()))\n",
        "print(len(s.lstrip()))\n",
        "print(len(s.rstrip()))\n",
        "s='01-01-2025'\n",
        "print(s.partition('-'))"
      ],
      "metadata": {
        "id": "Yas7Kwqd4c1K",
        "outputId": "6a99b005-06c7-4e3f-af4a-83cc7a48d100",
        "colab": {
          "base_uri": "https://localhost:8080/"
        }
      },
      "execution_count": null,
      "outputs": [
        {
          "output_type": "stream",
          "name": "stdout",
          "text": [
            "Ram kumar\n",
            "<class 'str'>\n",
            "RAM KUMAR\n",
            "ram kumar\n",
            "Ram kumar\n",
            "Ram Kumar\n",
            "2\n",
            "True\n",
            "2\n",
            "6\n",
            "Raw kuwar\n",
            "Is Upper :  False\n",
            "Is Lower :  False\n",
            "Is Alpha Numeric :  True\n",
            "Is Alpha :  False\n",
            "he\n",
            "is\n",
            "good\n",
            "['he', 'is', 'good']\n",
            "['he\\n', 'is\\n', 'good']\n",
            "['Ram', 'is', 'from', 'chennai']\n",
            "['Ram', 'is', 'from', 'chennai']\n",
            "12\n",
            "3\n",
            "8\n",
            "7\n",
            "('01', '-', '01-2025')\n"
          ]
        }
      ]
    },
    {
      "cell_type": "markdown",
      "source": [
        "# String Manipulation"
      ],
      "metadata": {
        "id": "xRaXwa7QDVHz"
      }
    },
    {
      "cell_type": "code",
      "source": [
        "s= \"sample\"\n",
        "print(s)\n",
        "print(s[0:2])\n",
        "print(s[:5])\n",
        "print(s[1:])\n",
        "print(s[-1])\n",
        "print(s[-2:-1])\n",
        "print(s[:-1])\n",
        "print(s[::-1])\n"
      ],
      "metadata": {
        "colab": {
          "base_uri": "https://localhost:8080/"
        },
        "id": "CQDnSQVtDdAx",
        "outputId": "2b15dc0e-6b79-40ad-a936-7bc2dbf335c1"
      },
      "execution_count": null,
      "outputs": [
        {
          "output_type": "stream",
          "name": "stdout",
          "text": [
            "sample\n",
            "sa\n",
            "sampl\n",
            "ample\n",
            "e\n",
            "l\n",
            "sampl\n",
            "elpmas\n"
          ]
        }
      ]
    },
    {
      "cell_type": "markdown",
      "source": [
        "# Arithmetic Operator"
      ],
      "metadata": {
        "id": "eAgufuFB8MEn"
      }
    },
    {
      "cell_type": "code",
      "source": [
        "\"\"\"\n",
        "+  Addition\n",
        "-  Subtraction\n",
        "*  Multiplication\n",
        "/  Division\n",
        "%  Modulus\n",
        "** Exponentiation\n",
        "// Floor division\n",
        "\"\"\"\n",
        "\n",
        "a=6\n",
        "b=4\n",
        "print(a+b)\n",
        "print(a-b)\n",
        "print(a*b)\n",
        "print(a/b)\n",
        "print(a//b)\n",
        "print(a%b)\n",
        "print(2**3)\n"
      ],
      "metadata": {
        "id": "YXBKvZpF8YGu",
        "outputId": "c8acf3ef-1eec-4881-9bec-fbbc30eff72c",
        "colab": {
          "base_uri": "https://localhost:8080/"
        }
      },
      "execution_count": 2,
      "outputs": [
        {
          "output_type": "stream",
          "name": "stdout",
          "text": [
            "10\n",
            "2\n",
            "24\n",
            "1.5\n",
            "1\n",
            "2\n",
            "8\n"
          ]
        }
      ]
    }
  ],
  "metadata": {
    "colab": {
      "toc_visible": true,
      "provenance": [],
      "include_colab_link": true
    },
    "kernelspec": {
      "display_name": "Python 3",
      "name": "python3"
    }
  },
  "nbformat": 4,
  "nbformat_minor": 0
}