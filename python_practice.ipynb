{
  "cells": [
    {
      "cell_type": "markdown",
      "metadata": {
        "id": "view-in-github",
        "colab_type": "text"
      },
      "source": [
        "<a href=\"https://colab.research.google.com/github/vijayalakshmig226/Python-Learning/blob/main/python_practice.ipynb\" target=\"_parent\"><img src=\"https://colab.research.google.com/assets/colab-badge.svg\" alt=\"Open In Colab\"/></a>"
      ]
    },
    {
      "cell_type": "markdown",
      "source": [
        "# User Input"
      ],
      "metadata": {
        "id": "ZjyJapCcqj9E"
      }
    },
    {
      "cell_type": "code",
      "source": [
        "name=input(\"Enter the name : \")\n",
        "print(name)\n",
        "print(type(name))\n",
        "\n",
        "a=int(input(\"Enter a value of a : \"))\n",
        "b=int(input(\"Enter a value of b : \"))\n",
        "c=a+b\n",
        "print(\"Total : \", c)\n",
        "print(type(c))\n",
        "\n",
        "a=float(input(\"Enter a value of a : \"))\n",
        "b=float(input(\"Enter a value of b : \"))\n",
        "c=a+b\n",
        "print(\"Total : \",c)\n",
        "print(type(c))"
      ],
      "metadata": {
        "colab": {
          "base_uri": "https://localhost:8080/"
        },
        "id": "r-0aqpWuqpU1",
        "outputId": "d1cbfe3a-cccb-4a28-d142-115075be3830"
      },
      "execution_count": null,
      "outputs": [
        {
          "output_type": "stream",
          "name": "stdout",
          "text": [
            "Enter the name : Ram\n",
            "Ram\n",
            "<class 'str'>\n",
            "Enter a value of a : 98\n",
            "Enter a value of b : 89\n",
            "Total :  187\n",
            "<class 'int'>\n",
            "Enter a value of a : 97\n",
            "Enter a value of b : 96\n",
            "Total :  193.0\n",
            "<class 'float'>\n"
          ]
        }
      ]
    },
    {
      "cell_type": "markdown",
      "source": [
        "# Getting Multiline Input"
      ],
      "metadata": {
        "id": "1YjrfuROstUi"
      }
    },
    {
      "cell_type": "code",
      "source": [
        "para=[]\n",
        "print(\"Enter a para\")\n",
        "\n",
        "while True:\n",
        "  line=input()\n",
        "  if line:\n",
        "    para.append(line)\n",
        "  else:\n",
        "    break\n",
        "    print(para)\n",
        "    output='\\n'.join(line)\n",
        "    print(output)"
      ],
      "metadata": {
        "colab": {
          "base_uri": "https://localhost:8080/"
        },
        "id": "I4Kh5quQtTxX",
        "outputId": "bf885c68-71ff-46af-db9f-e9e1558062f4"
      },
      "execution_count": null,
      "outputs": [
        {
          "name": "stdout",
          "output_type": "stream",
          "text": [
            "Enter a para\n",
            "Ram is good\n",
            "Sita is good\n",
            "\n"
          ]
        }
      ]
    },
    {
      "cell_type": "markdown",
      "source": [
        "# Type Casting"
      ],
      "metadata": {
        "id": "V1o2bPFduPSG"
      }
    },
    {
      "cell_type": "code",
      "source": [
        "a=99.9\n",
        "print(a)\n",
        "print(type(a))\n",
        "b=int(a)\n",
        "print(b)\n",
        "print(type(b))"
      ],
      "metadata": {
        "colab": {
          "base_uri": "https://localhost:8080/"
        },
        "id": "Vc9XOsRIuUVC",
        "outputId": "3e61144a-90b7-4acd-ee55-0cb3ecb1a1ce"
      },
      "execution_count": null,
      "outputs": [
        {
          "output_type": "stream",
          "name": "stdout",
          "text": [
            "99.9\n",
            "<class 'float'>\n",
            "99\n",
            "<class 'int'>\n"
          ]
        }
      ]
    },
    {
      "cell_type": "markdown",
      "source": [
        "# String And String Function"
      ],
      "metadata": {
        "id": "5sjR1ytg4cR-"
      }
    },
    {
      "cell_type": "code",
      "source": [
        "s = \"Ram kumar\"\n",
        "print(s)\n",
        "print(type(s))\n",
        "print(s.upper())\n",
        "print(s.lower())\n",
        "print(s.capitalize())\n",
        "print(s.title())\n",
        "print(s.count(\"a\"))\n",
        "print(s.endswith(\"ar\"))\n",
        "print(s.find(\"m\"))\n",
        "print(s.find(\"m\", 5))\n",
        "print(s.replace(\"m\", 'w'))\n",
        "a = \"Ram1234\"\n",
        "print(\"Is Upper : \", a.isupper())\n",
        "print(\"Is Lower : \", a.islower())\n",
        "print(\"Is Alpha Numeric : \", a.isalnum())\n",
        "print(\"Is Alpha : \", a.isalpha())\n",
        "s = \"he\\nis\\ngood\"\n",
        "print(s)\n",
        "print(s.splitlines())\n",
        "print(s.splitlines(True))\n",
        "a = \"Ram is from chennai\"\n",
        "print(a.split(\" \"))\n",
        "a = \"Ram,is,from,chennai\"\n",
        "print(a.split(\",\"))\n",
        "s=\"    Ram     \"\n",
        "print(len(s))\n",
        "print(len(s.strip()))\n",
        "print(len(s.lstrip()))\n",
        "print(len(s.rstrip()))\n",
        "s='01-01-2025'\n",
        "print(s.partition('-'))"
      ],
      "metadata": {
        "id": "Yas7Kwqd4c1K",
        "outputId": "6a99b005-06c7-4e3f-af4a-83cc7a48d100",
        "colab": {
          "base_uri": "https://localhost:8080/"
        }
      },
      "execution_count": null,
      "outputs": [
        {
          "output_type": "stream",
          "name": "stdout",
          "text": [
            "Ram kumar\n",
            "<class 'str'>\n",
            "RAM KUMAR\n",
            "ram kumar\n",
            "Ram kumar\n",
            "Ram Kumar\n",
            "2\n",
            "True\n",
            "2\n",
            "6\n",
            "Raw kuwar\n",
            "Is Upper :  False\n",
            "Is Lower :  False\n",
            "Is Alpha Numeric :  True\n",
            "Is Alpha :  False\n",
            "he\n",
            "is\n",
            "good\n",
            "['he', 'is', 'good']\n",
            "['he\\n', 'is\\n', 'good']\n",
            "['Ram', 'is', 'from', 'chennai']\n",
            "['Ram', 'is', 'from', 'chennai']\n",
            "12\n",
            "3\n",
            "8\n",
            "7\n",
            "('01', '-', '01-2025')\n"
          ]
        }
      ]
    },
    {
      "cell_type": "markdown",
      "source": [
        "# String Manipulation"
      ],
      "metadata": {
        "id": "xRaXwa7QDVHz"
      }
    },
    {
      "cell_type": "code",
      "source": [
        "s= \"sample\"\n",
        "print(s)\n",
        "print(s[0:2])\n",
        "print(s[:5])\n",
        "print(s[1:])\n",
        "print(s[-1])\n",
        "print(s[-2:-1])\n",
        "print(s[:-1])\n",
        "print(s[::-1])\n"
      ],
      "metadata": {
        "colab": {
          "base_uri": "https://localhost:8080/"
        },
        "id": "CQDnSQVtDdAx",
        "outputId": "2b15dc0e-6b79-40ad-a936-7bc2dbf335c1"
      },
      "execution_count": null,
      "outputs": [
        {
          "output_type": "stream",
          "name": "stdout",
          "text": [
            "sample\n",
            "sa\n",
            "sampl\n",
            "ample\n",
            "e\n",
            "l\n",
            "sampl\n",
            "elpmas\n"
          ]
        }
      ]
    },
    {
      "cell_type": "markdown",
      "source": [
        "# Arithmetic Operator"
      ],
      "metadata": {
        "id": "eAgufuFB8MEn"
      }
    },
    {
      "cell_type": "code",
      "source": [
        "\"\"\"\n",
        "+  Addition\n",
        "-  Subtraction\n",
        "*  Multiplication\n",
        "/  Division\n",
        "%  Modulus\n",
        "** Exponentiation\n",
        "// Floor division\n",
        "\"\"\"\n",
        "\n",
        "a=6\n",
        "b=5\n",
        "print(a+b)\n",
        "print(a-b)\n",
        "print(a*b)\n",
        "print(a/b)\n",
        "print(a//b)\n",
        "print(a%b)\n",
        "print(2**3)\n"
      ],
      "metadata": {
        "colab": {
          "base_uri": "https://localhost:8080/"
        },
        "id": "YXBKvZpF8YGu",
        "outputId": "924fd6b6-727d-4a35-e239-d0e71bd1d88a"
      },
      "execution_count": null,
      "outputs": [
        {
          "output_type": "stream",
          "name": "stdout",
          "text": [
            "11\n",
            "1\n",
            "30\n",
            "1.2\n",
            "1\n",
            "1\n",
            "8\n"
          ]
        }
      ]
    },
    {
      "cell_type": "markdown",
      "source": [
        "# Assignment Operator"
      ],
      "metadata": {
        "id": "cX4xLzriCCE9"
      }
    },
    {
      "cell_type": "code",
      "source": [
        "\"\"\"\n",
        " =  Assignment\n",
        "+=\tAddition\n",
        "-=\tSubtraction\n",
        "*=\tMultiplication\n",
        "/=\tDivision\n",
        "%=\tModulus\n",
        "**=\tExponentiation\n",
        "//=\tFloor division\n",
        "\"\"\"\n",
        "\n",
        "a = 125\n",
        "print(a)\n",
        "a += 10\n",
        "print(a)\n",
        "a -=10\n",
        "print(a)\n",
        "a *= 10\n",
        "print(a)\n",
        "a /= 10\n",
        "print(a)\n",
        "a %= 10\n",
        "print(a)\n",
        "a **= 2\n",
        "print(a)\n",
        "a //= 10\n",
        "print(a)\n",
        "\n"
      ],
      "metadata": {
        "colab": {
          "base_uri": "https://localhost:8080/"
        },
        "id": "O3t_MEkCCHJE",
        "outputId": "e3ae36ac-3a51-485a-9336-aab58924ed0b"
      },
      "execution_count": null,
      "outputs": [
        {
          "output_type": "stream",
          "name": "stdout",
          "text": [
            "125\n",
            "135\n",
            "125\n",
            "1250\n",
            "125.0\n",
            "5.0\n",
            "25.0\n",
            "2.0\n"
          ]
        }
      ]
    },
    {
      "cell_type": "markdown",
      "source": [
        "# Comparision or Relational Operator"
      ],
      "metadata": {
        "id": "n37oT2WPFaG2"
      }
    },
    {
      "cell_type": "code",
      "source": [
        "\"\"\"\n",
        "==\tEqual\n",
        "!=\tNot equal\n",
        ">\tGreater than\n",
        "<\tLess than\n",
        ">=\tGreater than or equal to\n",
        "<=\tLess than or equal to\n",
        "\n",
        "\"\"\"\n",
        "\n",
        "a = 10\n",
        "b = 20\n",
        "print(a == b)\n",
        "print(a != b)\n",
        "print(a > b)\n",
        "print(a < b)\n",
        "print(a >= b)\n",
        "print(a <= b)\n"
      ],
      "metadata": {
        "colab": {
          "base_uri": "https://localhost:8080/"
        },
        "id": "WpJfAc3rFp_X",
        "outputId": "93110213-1928-40b2-ef05-32556fce284e"
      },
      "execution_count": null,
      "outputs": [
        {
          "output_type": "stream",
          "name": "stdout",
          "text": [
            "False\n",
            "True\n",
            "False\n",
            "True\n",
            "False\n",
            "True\n"
          ]
        }
      ]
    },
    {
      "cell_type": "markdown",
      "source": [
        "# Logical Operator"
      ],
      "metadata": {
        "id": "gviEHm7wGvE9"
      }
    },
    {
      "cell_type": "code",
      "source": [
        "\"\"\"\n",
        "and\n",
        "or\n",
        "not\n",
        "\"\"\"\n",
        "\n",
        "a = 20\n",
        "print(a >= 10 and a <= 15)\n",
        "print(a >=10 or a<= 25)\n",
        "print(not(a >= 10 and a <= 25))\n"
      ],
      "metadata": {
        "colab": {
          "base_uri": "https://localhost:8080/"
        },
        "id": "NbLA7JVTGz0N",
        "outputId": "499c73e1-b792-482c-a63d-fe617c0e3020"
      },
      "execution_count": null,
      "outputs": [
        {
          "output_type": "stream",
          "name": "stdout",
          "text": [
            "False\n",
            "True\n",
            "False\n"
          ]
        }
      ]
    },
    {
      "cell_type": "markdown",
      "source": [
        "# Bitwise Opertaor"
      ],
      "metadata": {
        "id": "Pk6R_7RBIzhJ"
      }
    },
    {
      "cell_type": "code",
      "source": [
        "\"\"\"\n",
        "& \tAND\n",
        "|\tOR\n",
        "^\tXOR\n",
        "~ \tNOT\n",
        "<<\tZero fill left shift\n",
        ">>\tSigned right shift\n",
        "\"\"\"\n",
        "\n",
        "a=25\n",
        "b=45\n",
        "print(a&b)\n",
        "print(a|b)\n",
        "print(a^b)\n",
        "print(~a)\n",
        "print(a<<2)\n",
        "print(a>>2)\n",
        "\n",
        "\n",
        "\n"
      ],
      "metadata": {
        "id": "xdo3qfjZI0Od",
        "colab": {
          "base_uri": "https://localhost:8080/"
        },
        "outputId": "10d15fca-2149-440d-f9cf-391bb7fab12f"
      },
      "execution_count": null,
      "outputs": [
        {
          "output_type": "stream",
          "name": "stdout",
          "text": [
            "9\n",
            "61\n",
            "52\n",
            "-26\n",
            "100\n",
            "6\n"
          ]
        }
      ]
    },
    {
      "cell_type": "markdown",
      "source": [
        "# IF Else Statemet"
      ],
      "metadata": {
        "id": "FgwQ-pxwH_zF"
      }
    },
    {
      "cell_type": "code",
      "source": [
        "name = input(\"Enter a name: \")\n",
        "Age = int(input(\"Enter a age: \"))\n",
        "if Age >=18:\n",
        "  print(name, \"is eligible for vote\")\n",
        "else:\n",
        "  print(name, \"is not eligible for vote\")"
      ],
      "metadata": {
        "colab": {
          "base_uri": "https://localhost:8080/"
        },
        "id": "Y8KStUywN0t7",
        "outputId": "757734c5-ea02-44a5-e9a2-005e960e671e"
      },
      "execution_count": null,
      "outputs": [
        {
          "output_type": "stream",
          "name": "stdout",
          "text": [
            "Enter a name: ram\n",
            "Enter a age: 19\n",
            "ram is eligible for vote\n"
          ]
        }
      ]
    },
    {
      "cell_type": "markdown",
      "source": [
        "# Elif Statement"
      ],
      "metadata": {
        "id": "h7KHwJbhR04D"
      }
    },
    {
      "cell_type": "code",
      "source": [
        "days = int(input(\"Enter the days: \"))\n",
        "if days == 0:\n",
        "  print(\"Good no fine\")\n",
        "elif days >=1 and days <=5:\n",
        "  print(\"Fine Amount: \", days*1)\n",
        "elif days >5 and days <= 10:\n",
        "  print(\"Fine amount: \", days*2)\n",
        "else:\n",
        "  print(\"membership cancel\")\n"
      ],
      "metadata": {
        "colab": {
          "base_uri": "https://localhost:8080/"
        },
        "id": "GnzS08qLR9QX",
        "outputId": "c1a20dbc-2a86-40e4-d767-bd09a3e77365"
      },
      "execution_count": null,
      "outputs": [
        {
          "output_type": "stream",
          "name": "stdout",
          "text": [
            "Enter the days: 6\n",
            "Fine amount:  12\n"
          ]
        }
      ]
    },
    {
      "cell_type": "markdown",
      "source": [
        "# Nested If Statemet"
      ],
      "metadata": {
        "id": "YSBHNhiaTp_3"
      }
    },
    {
      "cell_type": "code",
      "source": [
        "m1 = int(input(\"Enter mark1 :\"))\n",
        "m2 = int(input(\"Enter mark2 :\"))\n",
        "m3 = int(input(\"Enter mark3 :\"))\n",
        "total = m1+m2+m3\n",
        "average = total/3\n",
        "if m1>=35 and m2>=35 and m3>=35:\n",
        " print(\"pass\")\n",
        " if average >=90 and average <=100:\n",
        "  print(\"grade : a\")\n",
        " elif average >=80 and average <=89:\n",
        "  print(\"grade : b\")\n",
        " elif average >=70 and average <=79:\n",
        "  print(\"grade : c\")\n",
        " else:\n",
        "  print(\"grade: d\")\n",
        "else:\n",
        " print(\"fail\")\n",
        " print(\"no grade\")\n"
      ],
      "metadata": {
        "colab": {
          "base_uri": "https://localhost:8080/"
        },
        "id": "BkBcJPgpXaow",
        "outputId": "284ec1ca-aff7-4da1-fa6e-00b744ac6c9e"
      },
      "execution_count": null,
      "outputs": [
        {
          "output_type": "stream",
          "name": "stdout",
          "text": [
            "Enter mark1 :70\n",
            "Enter mark2 :80\n",
            "Enter mark3 :90\n",
            "pass\n",
            "grade : b\n"
          ]
        }
      ]
    },
    {
      "cell_type": "markdown",
      "source": [
        "# While Loop"
      ],
      "metadata": {
        "id": "pfqRuQ_IahL5"
      }
    },
    {
      "cell_type": "code",
      "source": [
        "i = 1\n",
        "while i <= 10:\n",
        "  print(i)\n",
        "  i += 1\n",
        "\n",
        "\n",
        "n = 20\n",
        "print(\"even no: \")\n",
        "i = 2\n",
        "while i <=20:\n",
        " print(i)\n",
        " i += 2"
      ],
      "metadata": {
        "colab": {
          "base_uri": "https://localhost:8080/"
        },
        "id": "BZRQ6ZFYdMn2",
        "outputId": "d6ca7a20-5acf-410c-8319-329e3809ac85"
      },
      "execution_count": null,
      "outputs": [
        {
          "output_type": "stream",
          "name": "stdout",
          "text": [
            "1\n",
            "2\n",
            "3\n",
            "4\n",
            "5\n",
            "6\n",
            "7\n",
            "8\n",
            "9\n",
            "10\n",
            "even no: \n",
            "2\n",
            "4\n",
            "6\n",
            "8\n",
            "10\n",
            "12\n",
            "14\n",
            "16\n",
            "18\n",
            "20\n"
          ]
        }
      ]
    },
    {
      "cell_type": "markdown",
      "source": [
        "# Continue Using While Loop"
      ],
      "metadata": {
        "id": "yuO9BSD-e7Jj"
      }
    },
    {
      "cell_type": "code",
      "source": [
        "i=1\n",
        "while i<= 20:\n",
        "  if i%2==0:\n",
        "    i=i+1\n",
        "    continue;\n",
        "  print(i)\n",
        "  i +=1"
      ],
      "metadata": {
        "colab": {
          "base_uri": "https://localhost:8080/"
        },
        "id": "66uNBOAIfEIo",
        "outputId": "e0673ea4-c0a7-46f8-bec1-a5d86b440fa5"
      },
      "execution_count": null,
      "outputs": [
        {
          "output_type": "stream",
          "name": "stdout",
          "text": [
            "1\n",
            "3\n",
            "5\n",
            "7\n",
            "9\n",
            "11\n",
            "13\n",
            "15\n",
            "17\n",
            "19\n"
          ]
        }
      ]
    },
    {
      "cell_type": "markdown",
      "source": [
        "# Break Using While Loop"
      ],
      "metadata": {
        "id": "nrIVOAh3hx-S"
      }
    },
    {
      "cell_type": "code",
      "source": [
        "i=1\n",
        "while i <=20:\n",
        "  if i==7:\n",
        "    break\n",
        "  print(i)\n",
        "  i +=1"
      ],
      "metadata": {
        "colab": {
          "base_uri": "https://localhost:8080/"
        },
        "id": "hTOlnKCQh7Cn",
        "outputId": "151eef09-127e-4bbe-96a4-b66974320537"
      },
      "execution_count": 3,
      "outputs": [
        {
          "output_type": "stream",
          "name": "stdout",
          "text": [
            "1\n",
            "2\n",
            "3\n",
            "4\n",
            "5\n",
            "6\n"
          ]
        }
      ]
    },
    {
      "cell_type": "markdown",
      "source": [
        "# Range"
      ],
      "metadata": {
        "id": "hU_PiFMxioLy"
      }
    },
    {
      "cell_type": "code",
      "source": [
        "print(list(range(5)))\n",
        "print(list(range(0,5)))\n",
        "print(list(range(2,21,2)))\n",
        "print(list(range(1,20,2)))"
      ],
      "metadata": {
        "colab": {
          "base_uri": "https://localhost:8080/"
        },
        "id": "cLxLfHqmj4Xc",
        "outputId": "c102cebc-63b3-4a64-c745-4fe626c1b297"
      },
      "execution_count": null,
      "outputs": [
        {
          "output_type": "stream",
          "name": "stdout",
          "text": [
            "[0, 1, 2, 3, 4]\n",
            "[0, 1, 2, 3, 4]\n",
            "[2, 4, 6, 8, 10, 12, 14, 16, 18, 20]\n",
            "[1, 3, 5, 7, 9, 11, 13, 15, 17, 19]\n"
          ]
        }
      ]
    },
    {
      "cell_type": "markdown",
      "source": [
        "# For Loop"
      ],
      "metadata": {
        "id": "bFejH8IDlOJS"
      }
    },
    {
      "cell_type": "code",
      "source": [
        "for i in range(0, 21, 2):\n",
        " print(i)\n",
        "\n",
        "\n",
        "for i in range(5):\n",
        "    a = int(input(\"enter the no: \"))\n",
        "    b = int(input(\"enter the no: \"))\n",
        "    print(a+b)\n",
        "\n",
        "\n"
      ],
      "metadata": {
        "id": "ff3sucLola64",
        "outputId": "11dd31a0-8a81-47f6-b067-6a76bb912921",
        "colab": {
          "base_uri": "https://localhost:8080/"
        }
      },
      "execution_count": null,
      "outputs": [
        {
          "output_type": "stream",
          "name": "stdout",
          "text": [
            "0\n",
            "2\n",
            "4\n",
            "6\n",
            "8\n",
            "10\n",
            "12\n",
            "14\n",
            "16\n",
            "18\n",
            "20\n",
            "enter the no: 45\n",
            "enter the no: 7\n",
            "52\n",
            "enter the no: 8\n",
            "enter the no: 8\n",
            "16\n",
            "enter the no: 6\n",
            "enter the no: 6\n",
            "12\n",
            "enter the no: 6\n",
            "enter the no: 9\n",
            "15\n",
            "enter the no: 9\n",
            "enter the no: 6\n",
            "15\n"
          ]
        }
      ]
    },
    {
      "cell_type": "markdown",
      "source": [
        "# Nested For Loop"
      ],
      "metadata": {
        "id": "7JTwPRpnarrj"
      }
    },
    {
      "cell_type": "code",
      "source": [
        "\"\"\"\n",
        "A-Z => 65-90\n",
        "a-z=> 97-122\n",
        "\"\"\"\n",
        "\n",
        "\n",
        "for i in range(6):\n",
        "    for j in range(i):\n",
        "        print(\"*\", end=\"\")\n",
        "    print(\"\")\n",
        "print(\"----------\")\n",
        "\n",
        "for i in range(5,0,-1):\n",
        "    for j in range(i):\n",
        "        print(\"*\", end=\"\")\n",
        "    print(\"\")\n",
        "print(\"----------\")\n",
        "\n",
        "for i in range(65,70,1):\n",
        "    for j in range(65,70,1):\n",
        "        print(chr(j), end=\"\")\n",
        "    print(\"\")\n",
        "print(\"----------\")\n",
        "\n",
        "for i in range(122,117,-1):\n",
        "    for j in range(122,117,-1):\n",
        "        print(chr(j), end=\"\")\n",
        "    print(\"\")\n",
        "\n",
        "\n"
      ],
      "metadata": {
        "colab": {
          "base_uri": "https://localhost:8080/"
        },
        "id": "_FFKrxPZa0M6",
        "outputId": "c8d52eb6-3911-40c2-d57d-2153f7b2f69b"
      },
      "execution_count": 22,
      "outputs": [
        {
          "output_type": "stream",
          "name": "stdout",
          "text": [
            "\n",
            "*\n",
            "**\n",
            "***\n",
            "****\n",
            "*****\n",
            "----------\n",
            "*****\n",
            "****\n",
            "***\n",
            "**\n",
            "*\n",
            "----------\n",
            "ABCDE\n",
            "ABCDE\n",
            "ABCDE\n",
            "ABCDE\n",
            "ABCDE\n",
            "----------\n",
            "zyxwv\n",
            "zyxwv\n",
            "zyxwv\n",
            "zyxwv\n",
            "zyxwv\n"
          ]
        }
      ]
    },
    {
      "cell_type": "markdown",
      "source": [
        "# while Else & For Else"
      ],
      "metadata": {
        "id": "TcF5z0BjhlvC"
      }
    },
    {
      "cell_type": "code",
      "source": [
        "i = 1\n",
        "while i<= 5:\n",
        "  print(i)\n",
        "  i += 1\n",
        "else:\n",
        "  print(\"loop completed\")\n",
        "print(\"-------------------\")\n",
        "\n",
        "for i in range(1,5):\n",
        " print(i)\n",
        "else:\n",
        "  print(\"loop completed\")"
      ],
      "metadata": {
        "colab": {
          "base_uri": "https://localhost:8080/"
        },
        "id": "nUx7gDbphxIt",
        "outputId": "26bf30ce-538a-4882-d568-352694ecd1cf"
      },
      "execution_count": 27,
      "outputs": [
        {
          "output_type": "stream",
          "name": "stdout",
          "text": [
            "1\n",
            "2\n",
            "3\n",
            "4\n",
            "5\n",
            "loop completed\n",
            "-------------------\n",
            "1\n",
            "2\n",
            "3\n",
            "4\n",
            "loop completed\n"
          ]
        }
      ]
    },
    {
      "cell_type": "markdown",
      "source": [
        "# List and Its Functions"
      ],
      "metadata": {
        "id": "ZkuN3Syibz3r"
      }
    },
    {
      "cell_type": "code",
      "source": [
        "a = [1,2,3,4,5]\n",
        "print(a)\n",
        "print(type(a))\n",
        "a[0]=100\n",
        "print(a)\n",
        "# slicig\n",
        "print(a[1])\n",
        "print(a[-1])\n",
        "print(a[0:3])\n",
        "print(a[:2])\n",
        "print(a[2:])\n",
        "print(\"-----------------------\")\n",
        "a = [1, True, 'ram', 2.5, [1,2,3,4]]\n",
        "print(a)\n",
        "print(type(a))\n",
        "print(type(a[0]))\n",
        "print(type(a[1]))\n",
        "print(type(a[2]))\n",
        "print(type(a[3]))\n",
        "print(a[4])\n",
        "print(\"-----------------------\")\n",
        "a = [10, 20, 30, 40]\n",
        "print(a)\n",
        "a.clear()\n",
        "print(a)\n",
        "a = [10, 20, 30, 40]\n",
        "b = a.copy()\n",
        "print(b)\n",
        "a = [10, 20, 30, 20, 4, 40]\n",
        "print(a.count(20))\n",
        "print(a.index(40))\n",
        "print(len(a))\n",
        "print(min(a))\n",
        "print(max(a))\n",
        "print(a)\n",
        "a.pop(1) # remove element using index\n",
        "print(a)\n",
        "a = [10, 20, 30, 20, 4, 40]\n",
        "a.remove(20)\n",
        "print(a)\n",
        "print(\"-----------------------\")\n",
        "names = [\"ram\"]\n",
        "print(names)\n",
        "names.append(\"sita\")\n",
        "names.append(\"lakshman\")\n",
        "names.append(\"hanuman\")\n",
        "print(names)\n",
        "name1 = [\"janu\"]\n",
        "names.extend(name1)\n",
        "print(names)\n",
        "names.insert(0,\"siva\")\n",
        "print(names)\n",
        "print(\"-----------------------\")\n",
        "print(list(range(5)))\n",
        "print(list(\"sitaram\"))\n",
        "a = [50, 60, 30, 25]\n",
        "print(a)\n",
        "a.sort()\n",
        "print(a)\n",
        "a.sort(reverse=True)\n",
        "print(a)\n",
        "a = [\"apple\", \"zebra\", \"orange\"]\n",
        "print(a)\n",
        "a.sort()\n",
        "print(a)\n",
        "a.sort(reverse=True)\n",
        "print(a)\n",
        "a.sort(key=len)\n",
        "print(a)\n",
        "\n",
        "\n",
        "\n"
      ],
      "metadata": {
        "colab": {
          "base_uri": "https://localhost:8080/"
        },
        "id": "iDYWSZ9Bb7-E",
        "outputId": "324da65a-dd73-44df-f917-18b35b79a2cc"
      },
      "execution_count": 35,
      "outputs": [
        {
          "output_type": "stream",
          "name": "stdout",
          "text": [
            "[1, 2, 3, 4, 5]\n",
            "<class 'list'>\n",
            "[100, 2, 3, 4, 5]\n",
            "2\n",
            "5\n",
            "[100, 2, 3]\n",
            "[100, 2]\n",
            "[3, 4, 5]\n",
            "-----------------------\n",
            "[1, True, 'ram', 2.5, [1, 2, 3, 4]]\n",
            "<class 'list'>\n",
            "<class 'int'>\n",
            "<class 'bool'>\n",
            "<class 'str'>\n",
            "<class 'float'>\n",
            "[1, 2, 3, 4]\n",
            "-----------------------\n",
            "[10, 20, 30, 40]\n",
            "[]\n",
            "[10, 20, 30, 40]\n",
            "2\n",
            "5\n",
            "6\n",
            "4\n",
            "40\n",
            "[10, 20, 30, 20, 4, 40]\n",
            "[10, 30, 20, 4, 40]\n",
            "[10, 30, 20, 4, 40]\n",
            "-----------------------\n",
            "['ram']\n",
            "['ram', 'sita', 'lakshman', 'hanuman']\n",
            "['ram', 'sita', 'lakshman', 'hanuman', 'janu']\n",
            "['siva', 'ram', 'sita', 'lakshman', 'hanuman', 'janu']\n",
            "-----------------------\n",
            "[0, 1, 2, 3, 4]\n",
            "['s', 'i', 't', 'a', 'r', 'a', 'm']\n",
            "[50, 60, 30, 25]\n",
            "[25, 30, 50, 60]\n",
            "[60, 50, 30, 25]\n",
            "['apple', 'zebra', 'orange']\n",
            "['apple', 'orange', 'zebra']\n",
            "['zebra', 'orange', 'apple']\n",
            "['zebra', 'apple', 'orange']\n"
          ]
        }
      ]
    },
    {
      "cell_type": "markdown",
      "source": [
        "# Tuple"
      ],
      "metadata": {
        "id": "0gBAl4X2wm6B"
      }
    },
    {
      "cell_type": "code",
      "source": [
        "a = (1, True, \"sita\", 2.5)\n",
        "print(a)\n",
        "print(type(a))\n",
        "# Slicing\n",
        "print(a[1])\n",
        "print(a[-1])\n",
        "print(a[2:])\n",
        "print(a[0:2])\n",
        "print(a[2:])\n",
        "print(a)\n",
        "b = list(a)\n",
        "b.append(\"ram\")\n",
        "print(b)\n",
        "print(type(b))\n",
        "a = tuple(b)\n",
        "print(a)\n",
        "print(type(a))\n",
        "\n",
        "for i in a:\n",
        "  print(i)\n",
        "\n",
        "if \"sita\" in a:\n",
        "  print(\"sita is found\")\n",
        "else:\n",
        "  print(\"sita is not found\")\n",
        "print(len(a))\n",
        "\n",
        "a=(5,)\n",
        "print(type(a))\n",
        "del a\n",
        "\n",
        "a = (1, 2, 3, 4)\n",
        "b = (5, 6, 7, 8)\n",
        "c = a + b\n",
        "print(c)\n",
        "print(c.count(7))\n",
        "\n",
        "a = (1, 2, 3, 4)\n",
        "b = (5, 6, 7, 8)\n",
        "c = (a,b)\n",
        "print(c)\n",
        "print(c[0])\n",
        "print(c[1])\n",
        "print(c[0][2])\n",
        "\n",
        "a = ('ram',)*10\n",
        "print(a,)\n",
        "\n",
        "a = (1, 2, 3, 4)\n",
        "b = (5, 6, 7, 8)\n",
        "print(min(a))\n",
        "print(max(b))"
      ],
      "metadata": {
        "colab": {
          "base_uri": "https://localhost:8080/"
        },
        "id": "NMYrd5G2wqpf",
        "outputId": "4b9e833b-d5be-423e-b29a-36f7906148d7"
      },
      "execution_count": 56,
      "outputs": [
        {
          "output_type": "stream",
          "name": "stdout",
          "text": [
            "(1, True, 'sita', 2.5)\n",
            "<class 'tuple'>\n",
            "True\n",
            "2.5\n",
            "('sita', 2.5)\n",
            "(1, True)\n",
            "('sita', 2.5)\n",
            "(1, True, 'sita', 2.5)\n",
            "[1, True, 'sita', 2.5, 'ram']\n",
            "<class 'list'>\n",
            "(1, True, 'sita', 2.5, 'ram')\n",
            "<class 'tuple'>\n",
            "1\n",
            "True\n",
            "sita\n",
            "2.5\n",
            "ram\n",
            "sita is found\n",
            "5\n",
            "<class 'tuple'>\n",
            "(1, 2, 3, 4, 5, 6, 7, 8)\n",
            "1\n",
            "((1, 2, 3, 4), (5, 6, 7, 8))\n",
            "(1, 2, 3, 4)\n",
            "(5, 6, 7, 8)\n",
            "3\n",
            "('ram', 'ram', 'ram', 'ram', 'ram', 'ram', 'ram', 'ram', 'ram', 'ram')\n",
            "1\n",
            "8\n"
          ]
        }
      ]
    },
    {
      "cell_type": "markdown",
      "source": [
        "# Set"
      ],
      "metadata": {
        "id": "k1wSmrepwEOb"
      }
    },
    {
      "cell_type": "code",
      "source": [
        "names = {'ram', 'sita'}\n",
        "print(names)\n",
        "print(type(names))\n",
        "\n",
        "for name in names:\n",
        "  print(name)\n",
        "\n",
        "names.add('lakshman')\n",
        "print(names)\n",
        "\n",
        "a = {'hanuman', 'raghu'}\n",
        "names.update(a)\n",
        "print(names)\n",
        "\n",
        "names.remove(\"raghu\")\n",
        "print(names)\n",
        "\n",
        "names.discard(\"ram\")\n",
        "print(names)\n",
        "\n",
        "names.pop()\n",
        "print(names)\n",
        "\n",
        "names.clear()\n",
        "print(names)\n",
        "\n",
        "del a\n",
        "\n",
        "a = {'lakshman', 'raghu', 'sita', 'hanuman', 'ram', 'ram'}\n",
        "print(a)\n",
        "\n",
        "a ={1, 2, 3, 4}\n",
        "b = {'a', 'b', 'c', 'd'}\n",
        "c = a.union(b)\n",
        "print(c)\n",
        "\n",
        "a.update(b)\n",
        "print(a)\n",
        "print(\"------------------------------------\")\n",
        "\n",
        "a = {1, 2, 3, 4}\n",
        "b = {4, 5, 6, 7}\n",
        "c = a.intersection(b)\n",
        "print(c)\n",
        "a.intersection_update(b)\n",
        "print(a)\n",
        "\n",
        "a = {1, 2, 3, 4}\n",
        "b = {4, 5, 6, 7}\n",
        "c = a.symmetric_difference(b)\n",
        "print(c)\n",
        "a.symmetric_difference_update(b)\n",
        "print(a)\n",
        "print(\"------------------------------------\")\n",
        "\n",
        "a = {1, 2, 3}\n",
        "b = {4, 5}\n",
        "c = a.isdisjoint(b)\n",
        "print(c)\n",
        "\n",
        "c = a.issubset(b)\n",
        "print(c)\n",
        "\n",
        "c = a.issuperset(b)\n",
        "print(c)\n"
      ],
      "metadata": {
        "colab": {
          "base_uri": "https://localhost:8080/"
        },
        "id": "okc-18AWwIGK",
        "outputId": "c714ead6-0c4f-4664-ef37-f3ce4c82e385"
      },
      "execution_count": 20,
      "outputs": [
        {
          "output_type": "stream",
          "name": "stdout",
          "text": [
            "{'ram', 'sita'}\n",
            "<class 'set'>\n",
            "ram\n",
            "sita\n",
            "{'lakshman', 'ram', 'sita'}\n",
            "{'lakshman', 'raghu', 'sita', 'hanuman', 'ram'}\n",
            "{'lakshman', 'sita', 'hanuman', 'ram'}\n",
            "{'lakshman', 'sita', 'hanuman'}\n",
            "{'sita', 'hanuman'}\n",
            "set()\n",
            "{'lakshman', 'raghu', 'sita', 'hanuman', 'ram'}\n",
            "{1, 2, 3, 4, 'b', 'a', 'd', 'c'}\n",
            "{1, 2, 3, 4, 'b', 'a', 'd', 'c'}\n",
            "------------------------------------\n",
            "{4}\n",
            "{4}\n",
            "{1, 2, 3, 5, 6, 7}\n",
            "{1, 2, 3, 5, 6, 7}\n",
            "------------------------------------\n",
            "True\n",
            "False\n",
            "False\n"
          ]
        }
      ]
    },
    {
      "cell_type": "markdown",
      "source": [
        "# Dictionary"
      ],
      "metadata": {
        "id": "-0o-cawZAPSP"
      }
    },
    {
      "cell_type": "code",
      "source": [
        "user = {\n",
        "    \"name\" : \"ram\",\n",
        "    \"age\" : 25,\n",
        "    \"ismarried\" : True\n",
        "\n",
        "}\n",
        "print(user)\n",
        "print(type(user))\n",
        "print(user[\"name\"])\n",
        "print(user.get('age'))\n",
        "print(user.keys())\n",
        "print(user.values())\n",
        "print(user.items())\n",
        "print(\"----------------------------------\")\n",
        "\n",
        "for x in user:\n",
        "  print(x, \" \", user[x])\n",
        "\n",
        "for x in user.values():\n",
        "  print(x)\n",
        "\n",
        "for x in user.keys():\n",
        "  print(x)\n",
        "\n",
        "for x,y in user.items():\n",
        "  print(x,y)\n",
        "print(\"----------------------------------\")\n",
        "\n",
        "user.update({\"gender\":\"male\"})\n",
        "print(user)\n",
        "\n",
        "user[\"age\"]=20\n",
        "print(user)\n",
        "\n",
        "if \"age\" in user:\n",
        "  print(\"yes\")\n",
        "\n",
        "user.pop(\"name\")\n",
        "print(user)\n",
        "\n",
        "user.clear()\n",
        "print(user)\n",
        "print(\"-------------------------------\")\n",
        "\n",
        "users = {\n",
        "    \"user1\" : {\n",
        "        \"name\": \"ram\",\n",
        "        \"age\": 25,\n",
        "        \"ismarried\": True\n",
        "    },\n",
        "    \"user2\" : {\n",
        "        \"name\": \"sita\",\n",
        "        \"age\": 22,\n",
        "        \"ismarried\": True\n",
        "    }\n",
        "}\n",
        "print(users)\n",
        "\n"
      ],
      "metadata": {
        "colab": {
          "base_uri": "https://localhost:8080/"
        },
        "id": "tLOjaQ6OASco",
        "outputId": "5a67f6cf-a1f1-45c5-8910-75ba1f22da42"
      },
      "execution_count": 56,
      "outputs": [
        {
          "output_type": "stream",
          "name": "stdout",
          "text": [
            "{'name': 'ram', 'age': 25, 'ismarried': True}\n",
            "<class 'dict'>\n",
            "ram\n",
            "25\n",
            "dict_keys(['name', 'age', 'ismarried'])\n",
            "dict_values(['ram', 25, True])\n",
            "dict_items([('name', 'ram'), ('age', 25), ('ismarried', True)])\n",
            "----------------------------------\n",
            "name   ram\n",
            "age   25\n",
            "ismarried   True\n",
            "ram\n",
            "25\n",
            "True\n",
            "name\n",
            "age\n",
            "ismarried\n",
            "name ram\n",
            "age 25\n",
            "ismarried True\n",
            "----------------------------------\n",
            "{'name': 'ram', 'age': 25, 'ismarried': True, 'gender': 'male'}\n",
            "{'name': 'ram', 'age': 20, 'ismarried': True, 'gender': 'male'}\n",
            "yes\n",
            "{'age': 20, 'ismarried': True, 'gender': 'male'}\n",
            "{}\n",
            "-------------------------------\n",
            "{'user1': {'name': 'ram', 'age': 25, 'ismarried': True}, 'user2': {'name': 'sita', 'age': 22, 'ismarried': True}}\n"
          ]
        }
      ]
    },
    {
      "cell_type": "markdown",
      "source": [
        "# Identity Operator"
      ],
      "metadata": {
        "id": "8F74Zfk_gmXw"
      }
    },
    {
      "cell_type": "code",
      "source": [
        "\"\"\"\n",
        "is\n",
        "isnot\n",
        "\"\"\"\n",
        "\n",
        "a = [1,2]\n",
        "b = [1,2]\n",
        "c = a\n",
        "print(a is c)\n",
        "print(a is b)\n",
        "print(a==b)\n",
        "print(id(a))\n",
        "print(id(c))\n",
        "print(id(b))\n",
        "\n",
        "\n",
        "print(a is not c)\n",
        "print(a is not b)\n",
        "print(a!=b)"
      ],
      "metadata": {
        "colab": {
          "base_uri": "https://localhost:8080/"
        },
        "id": "61vLXVAciOvg",
        "outputId": "2ebecf93-027e-472a-9d74-978188c2d6b0"
      },
      "execution_count": 4,
      "outputs": [
        {
          "output_type": "stream",
          "name": "stdout",
          "text": [
            "True\n",
            "False\n",
            "True\n",
            "138099616832192\n",
            "138099616832192\n",
            "138099616838208\n",
            "False\n",
            "True\n",
            "False\n"
          ]
        }
      ]
    },
    {
      "cell_type": "markdown",
      "source": [
        "# Membership Operator"
      ],
      "metadata": {
        "id": "LBOsjMdCj-HW"
      }
    },
    {
      "cell_type": "code",
      "source": [
        "a = [10, 20, 30]\n",
        "print(22 in a)\n",
        "print(25 not in a)"
      ],
      "metadata": {
        "colab": {
          "base_uri": "https://localhost:8080/"
        },
        "id": "JEAF12c1kDBW",
        "outputId": "1481f411-7d17-4c32-bbb0-5f1f8886f1aa"
      },
      "execution_count": 6,
      "outputs": [
        {
          "output_type": "stream",
          "name": "stdout",
          "text": [
            "False\n",
            "True\n"
          ]
        }
      ]
    },
    {
      "cell_type": "markdown",
      "source": [
        "# Function"
      ],
      "metadata": {
        "id": "dasjntvFlg8d"
      }
    },
    {
      "cell_type": "code",
      "source": [
        "def Hello():\n",
        "  print(\"Hello World!!!\")\n",
        "Hello()\n",
        "Hello()"
      ],
      "metadata": {
        "colab": {
          "base_uri": "https://localhost:8080/"
        },
        "id": "Wl2N_m3Ulqur",
        "outputId": "59dd5c56-2f7c-4843-c456-6ee45706651e"
      },
      "execution_count": 7,
      "outputs": [
        {
          "output_type": "stream",
          "name": "stdout",
          "text": [
            "Hello World!!!\n",
            "Hello World!!!\n"
          ]
        }
      ]
    },
    {
      "cell_type": "markdown",
      "source": [
        "# No Return Type Without Argument Function"
      ],
      "metadata": {
        "id": "hc1vJrrymrL0"
      }
    },
    {
      "cell_type": "code",
      "source": [
        "def add():\n",
        "  a = int(input(\"Enter the Value Of A: \"))\n",
        "  b = int(input(\"Enter the Value Of B: \"))\n",
        "  c = a+b\n",
        "  print(\"Total : \", c)\n",
        "\n",
        "add()"
      ],
      "metadata": {
        "colab": {
          "base_uri": "https://localhost:8080/"
        },
        "id": "gsyqHVVfm_Hl",
        "outputId": "3ea71340-93ec-4cc9-aca6-ed871c6e24d0"
      },
      "execution_count": 9,
      "outputs": [
        {
          "output_type": "stream",
          "name": "stdout",
          "text": [
            "Enter the Value Of A: 30\n",
            "Enter the Value Of B: 40\n",
            "Total :  70\n"
          ]
        }
      ]
    },
    {
      "cell_type": "markdown",
      "source": [
        "# No Return Type With Argument Function"
      ],
      "metadata": {
        "id": "HWL0Aip6n-2Y"
      }
    },
    {
      "cell_type": "code",
      "source": [
        "def sub(a,b):\n",
        "  c = a-b\n",
        "  print(\"Difference: \",c)\n",
        "\n",
        "sub(20,10)\n",
        ""
      ],
      "metadata": {
        "colab": {
          "base_uri": "https://localhost:8080/"
        },
        "id": "fWvOwlRmoG-9",
        "outputId": "8a6399c7-0b3f-421a-8e6b-edc991399120"
      },
      "execution_count": 10,
      "outputs": [
        {
          "output_type": "stream",
          "name": "stdout",
          "text": [
            "Difference:  10\n"
          ]
        }
      ]
    },
    {
      "cell_type": "markdown",
      "source": [
        "# Return Type Without Argument Function"
      ],
      "metadata": {
        "id": "Dgb6UCSMo7Lb"
      }
    },
    {
      "cell_type": "code",
      "source": [
        "def mul():\n",
        "  a = int(input(\"Enter the Value of A : \"))\n",
        "  b = int(input(\"Enter the Value of B : \"))\n",
        "  c = a*b\n",
        "  return c\n",
        "\n",
        "x = mul()\n",
        "print(\"Total : \", x)"
      ],
      "metadata": {
        "colab": {
          "base_uri": "https://localhost:8080/"
        },
        "id": "DHEt9jkXpByX",
        "outputId": "61045e65-bdfb-40e1-e961-02a95aab2df8"
      },
      "execution_count": 11,
      "outputs": [
        {
          "output_type": "stream",
          "name": "stdout",
          "text": [
            "Enter the Value of A : 2\n",
            "Enter the Value of B : 3\n",
            "Total :  6\n"
          ]
        }
      ]
    },
    {
      "cell_type": "markdown",
      "source": [
        "# Return Type With Argument Function"
      ],
      "metadata": {
        "id": "e_ltFSoypxE3"
      }
    },
    {
      "cell_type": "code",
      "source": [
        "def div(a,b):\n",
        "  c = a/b\n",
        "  return c\n",
        "\n",
        "x = div(15,3)\n",
        "print(\"Total : \", x)"
      ],
      "metadata": {
        "colab": {
          "base_uri": "https://localhost:8080/"
        },
        "id": "DBhHJpiQp4md",
        "outputId": "641246ed-7b78-4822-edbb-5d93fe8ceeaf"
      },
      "execution_count": 14,
      "outputs": [
        {
          "output_type": "stream",
          "name": "stdout",
          "text": [
            "Total :  5.0\n"
          ]
        }
      ]
    },
    {
      "cell_type": "markdown",
      "source": [
        "# Arbitrary Arguments Function"
      ],
      "metadata": {
        "id": "QKMitlyNslgE"
      }
    },
    {
      "cell_type": "code",
      "source": [
        "def class_10(*students):\n",
        "   print(students)\n",
        "   for user in students:\n",
        "        print(user)\n",
        "\n",
        "class_10(\"ram\", \"sita\")\n",
        "print(type(class_10))\n",
        "\n",
        "\n",
        "\n"
      ],
      "metadata": {
        "colab": {
          "base_uri": "https://localhost:8080/"
        },
        "id": "lLI9pf6PsqIB",
        "outputId": "58ca81c6-3752-426a-8d6d-491ee17d04e4"
      },
      "execution_count": 21,
      "outputs": [
        {
          "output_type": "stream",
          "name": "stdout",
          "text": [
            "('ram', 'sita')\n",
            "ram\n",
            "sita\n",
            "<class 'function'>\n"
          ]
        }
      ]
    },
    {
      "cell_type": "markdown",
      "source": [
        "# Keyword Arguments Function"
      ],
      "metadata": {
        "id": "crVk2WzYvAb_"
      }
    },
    {
      "cell_type": "code",
      "source": [
        "def message(name,age):\n",
        "  print(name, \"age is \", age)\n",
        "\n",
        "message(age=20, name=\"ram\")"
      ],
      "metadata": {
        "colab": {
          "base_uri": "https://localhost:8080/"
        },
        "id": "zLQ7Br5ivDLr",
        "outputId": "bb3ff4a8-6803-409f-953b-88d0c8f7ade5"
      },
      "execution_count": 23,
      "outputs": [
        {
          "output_type": "stream",
          "name": "stdout",
          "text": [
            "ram age is  20\n"
          ]
        }
      ]
    },
    {
      "cell_type": "markdown",
      "source": [
        "# Arbitrary Keyword Arguments"
      ],
      "metadata": {
        "id": "VRgpHcaQzXf-"
      }
    },
    {
      "cell_type": "code",
      "source": [
        "def student(**data):\n",
        "  print(data)\n",
        "\n",
        "student(name=\"sita\", age=20, gender=\"female\")\n"
      ],
      "metadata": {
        "colab": {
          "base_uri": "https://localhost:8080/"
        },
        "id": "6VR8L-mvzZuQ",
        "outputId": "02811002-7e5e-4844-deae-0b90f3e87a65"
      },
      "execution_count": 25,
      "outputs": [
        {
          "output_type": "stream",
          "name": "stdout",
          "text": [
            "{'name': 'sita', 'age': 20, 'gender': 'female'}\n"
          ]
        }
      ]
    },
    {
      "cell_type": "markdown",
      "source": [
        "# Default Parameter Function"
      ],
      "metadata": {
        "id": "8AOK3pQf0cVG"
      }
    },
    {
      "cell_type": "code",
      "source": [
        "def user(name, city=\"chennai\"):\n",
        "  print(name, \"is from\", city)\n",
        "\n",
        "user(\"ram\", \"tambaram\")\n",
        "user(\"sita\")"
      ],
      "metadata": {
        "colab": {
          "base_uri": "https://localhost:8080/"
        },
        "id": "8aBUKMSD0iEG",
        "outputId": "d15485ac-0ec6-427d-9077-31680783126a"
      },
      "execution_count": 26,
      "outputs": [
        {
          "output_type": "stream",
          "name": "stdout",
          "text": [
            "ram is from tambaram\n",
            "sita is from chennai\n"
          ]
        }
      ]
    },
    {
      "cell_type": "markdown",
      "source": [
        "# Passing a List as an Argument in Function"
      ],
      "metadata": {
        "id": "Kecui4RH1pYD"
      }
    },
    {
      "cell_type": "code",
      "source": [
        "def total(marks):\n",
        "  return(sum(marks))\n",
        "\n",
        "print(\"total: \", total([89,98,79,97,99]))"
      ],
      "metadata": {
        "colab": {
          "base_uri": "https://localhost:8080/"
        },
        "id": "WkmTJqkW1u8Q",
        "outputId": "fcb2eb14-dda3-404c-d22f-361c80a9b78d"
      },
      "execution_count": 27,
      "outputs": [
        {
          "output_type": "stream",
          "name": "stdout",
          "text": [
            "total:  462\n"
          ]
        }
      ]
    },
    {
      "cell_type": "markdown",
      "source": [
        "# recursive function"
      ],
      "metadata": {
        "id": "Fs3zOLJ53C7o"
      }
    },
    {
      "cell_type": "code",
      "source": [
        "def factorial(x):\n",
        "  if x == 1:\n",
        "    return 1\n",
        "  else:\n",
        "    return(x*factorial(x-1))\n",
        "print(\"factorial :\", factorial(5))"
      ],
      "metadata": {
        "colab": {
          "base_uri": "https://localhost:8080/"
        },
        "id": "I3DkWfWw3Mdu",
        "outputId": "643137f0-bb52-42d4-ed5c-05512d1d6e37"
      },
      "execution_count": 28,
      "outputs": [
        {
          "output_type": "stream",
          "name": "stdout",
          "text": [
            "factorial : 120\n"
          ]
        }
      ]
    },
    {
      "cell_type": "markdown",
      "source": [
        "# Lambda Function"
      ],
      "metadata": {
        "id": "h3DoW4fi4kHF"
      }
    },
    {
      "cell_type": "code",
      "source": [
        "c = lambda a:a+50\n",
        "print(c(10))\n",
        "\n",
        "c = lambda a,b:a*b\n",
        "print(c(5,4))"
      ],
      "metadata": {
        "colab": {
          "base_uri": "https://localhost:8080/"
        },
        "id": "Vyi1z0J_4rMW",
        "outputId": "83dfd7d0-94af-438e-fc6a-0148a9e7d284"
      },
      "execution_count": 30,
      "outputs": [
        {
          "output_type": "stream",
          "name": "stdout",
          "text": [
            "60\n",
            "20\n"
          ]
        }
      ]
    },
    {
      "cell_type": "markdown",
      "source": [
        "# Date And Time Function"
      ],
      "metadata": {
        "id": "k-JKr9q-5cF5"
      }
    },
    {
      "cell_type": "code",
      "source": [
        "import datetime as dt\n",
        "\n",
        "current_date=dt.date.today()\n",
        "print(\"current date :\", current_date)\n",
        "\n",
        "# Date\n",
        "new = dt.date(2021, 10, 25)\n",
        "print(new)\n",
        "print(\"Year : \", new.year)\n",
        "print(\"Month : \", new.month)\n",
        "print(\"Day : \", new.day)\n",
        "print(\"---------------------------------\")\n",
        "# Time\n",
        "a = dt.time(10, 45, 5, 555505)\n",
        "print(a)\n",
        "print(\"Hour : \", a.hour)\n",
        "print(\"Minute : \", a.minute)\n",
        "print(\"Second : \", a.second)\n",
        "print(\"Microsecond : \", a.microsecond)\n",
        "print(\"-----------------------------------\")\n",
        "\n",
        "current_time=dt.datetime.now()\n",
        "print(\"Current Time : \", current_time)\n",
        "\n",
        "new = dt.datetime(2021, 5, 31, 12, 2, 10)\n",
        "print(new)\n",
        "print(new.date())\n",
        "print(new.time())\n",
        "print(\"-----------------------------------\")\n",
        "current = dt.datetime.now()\n",
        "new_year = dt.datetime(2022, 1, 1)\n",
        "difference = current - new_year\n",
        "print(difference)\n",
        "print(\"-----------------------------------\")\n",
        "current = dt.datetime.now()\n",
        "print(current)\n",
        "s = current.strftime(\"%A %b %d %Y\")\n",
        "print(s)\n"
      ],
      "metadata": {
        "colab": {
          "base_uri": "https://localhost:8080/"
        },
        "id": "VuT95v495k8_",
        "outputId": "7420c509-ab12-4348-a26e-710c849a2b28"
      },
      "execution_count": 50,
      "outputs": [
        {
          "output_type": "stream",
          "name": "stdout",
          "text": [
            "current date : 2025-02-12\n",
            "2021-10-25\n",
            "Year :  2021\n",
            "Month :  10\n",
            "Day :  25\n",
            "---------------------------------\n",
            "10:45:05.555505\n",
            "Hour :  10\n",
            "Minute :  45\n",
            "Second :  5\n",
            "Microsecond :  555505\n",
            "-----------------------------------\n",
            "Current Time :  2025-02-12 12:12:07.691746\n",
            "2021-05-31 12:02:10\n",
            "2021-05-31\n",
            "12:02:10\n",
            "-----------------------------------\n",
            "1138 days, 12:12:07.692276\n",
            "-----------------------------------\n",
            "2025-02-12 12:12:07.692565\n",
            "Wednesday Feb 12 2025\n"
          ]
        }
      ]
    },
    {
      "cell_type": "markdown",
      "source": [
        "# Math Function"
      ],
      "metadata": {
        "id": "HbuxXBdRGIi6"
      }
    },
    {
      "cell_type": "code",
      "source": [
        "import math\n",
        "print(math.sqrt(2))\n",
        "print(math.ceil(1.55))\n",
        "print(math.floor(1.66))\n",
        "print(math.factorial(5))\n",
        "print(math.fabs(-5))\n",
        "print(math.pow(2,5))\n",
        "print(math.log2(5))\n",
        "print(math.log10(5))\n",
        "print(math.pi)\n",
        "print(math.e)\n"
      ],
      "metadata": {
        "colab": {
          "base_uri": "https://localhost:8080/"
        },
        "id": "7C_rIKPrGPC2",
        "outputId": "e52a8e62-deeb-4afd-c203-21e219c625fe"
      },
      "execution_count": 52,
      "outputs": [
        {
          "output_type": "stream",
          "name": "stdout",
          "text": [
            "1.4142135623730951\n",
            "2\n",
            "1\n",
            "120\n",
            "5.0\n",
            "32.0\n",
            "2.321928094887362\n",
            "0.6989700043360189\n",
            "3.141592653589793\n",
            "2.718281828459045\n"
          ]
        }
      ]
    },
    {
      "cell_type": "markdown",
      "source": [
        "# Try Block"
      ],
      "metadata": {
        "id": "saYiJha0QwED"
      }
    },
    {
      "cell_type": "code",
      "source": [
        "try:\n",
        "  a=10/0\n",
        "except Exception as e:\n",
        "  print(e)\n"
      ],
      "metadata": {
        "colab": {
          "base_uri": "https://localhost:8080/"
        },
        "id": "eIHrVwTpQ12_",
        "outputId": "c97d33b1-9c1c-42cc-9983-82b40129d3eb"
      },
      "execution_count": 56,
      "outputs": [
        {
          "output_type": "stream",
          "name": "stdout",
          "text": [
            "division by zero\n"
          ]
        }
      ]
    },
    {
      "cell_type": "markdown",
      "source": [
        "# Try Else Block"
      ],
      "metadata": {
        "id": "9MLRuLC7Ro7y"
      }
    },
    {
      "cell_type": "code",
      "source": [
        "try:\n",
        "  a = 20/4\n",
        "except Exception as e:\n",
        "    print(e)\n",
        "else:\n",
        "    print(a)"
      ],
      "metadata": {
        "colab": {
          "base_uri": "https://localhost:8080/"
        },
        "id": "Uk6vqjN5RvEu",
        "outputId": "4a932add-bbc9-4fe9-bfcb-682dd4988829"
      },
      "execution_count": 58,
      "outputs": [
        {
          "output_type": "stream",
          "name": "stdout",
          "text": [
            "5.0\n"
          ]
        }
      ]
    },
    {
      "cell_type": "markdown",
      "source": [
        "# Finally Block"
      ],
      "metadata": {
        "id": "ddjxBceOS-lN"
      }
    },
    {
      "cell_type": "code",
      "source": [
        "try:\n",
        "  s = 2/5\n",
        "except Exception as e:\n",
        "  print(e)\n",
        "else:\n",
        "  print(s)\n",
        "finally:\n",
        "  print(\"Thank you\")"
      ],
      "metadata": {
        "colab": {
          "base_uri": "https://localhost:8080/"
        },
        "id": "b5c2W6WdTE2o",
        "outputId": "133e332b-ef12-4c5f-b37c-f5a84408a160"
      },
      "execution_count": 59,
      "outputs": [
        {
          "output_type": "stream",
          "name": "stdout",
          "text": [
            "0.4\n",
            "Thank you\n"
          ]
        }
      ]
    },
    {
      "cell_type": "markdown",
      "source": [
        "# Types Of Exceptions"
      ],
      "metadata": {
        "id": "g2VuIo2KxA9w"
      }
    },
    {
      "cell_type": "code",
      "source": [
        "try:\n",
        "    print(a)\n",
        "except NameError as e:\n",
        "    print(\"A is not Defined\")\n",
        "    print(\"---------------------------------------\")\n",
        "\n",
        "try:\n",
        "    b=10/0\n",
        "except ZeroDivisionError as e:\n",
        "    print(\"Denominator cannot be zero\")\n",
        "    print(\"---------------------------------------\")\n",
        "\n",
        "try:\n",
        "  c = int(\"Ram\")\n",
        "except ValueError as e:\n",
        "  print(\"Enter numbers only\")\n",
        "  print(\"---------------------------------------\")\n",
        "\n",
        "try:\n",
        "  s = [1, 2, 3, 4]\n",
        "  print(s[5])\n",
        "except IndexError as e:\n",
        "  print(\"Ivalid Index\")\n",
        "  print(\"---------------------------------------\")\n",
        "\n",
        "try:\n",
        "  f = open(\"ram.txt\")\n",
        "except FileNotFoundError as e:\n",
        "  print(\"File Not Found\")\n",
        "else:\n",
        "  print(f.read)"
      ],
      "metadata": {
        "colab": {
          "base_uri": "https://localhost:8080/"
        },
        "id": "5zhD1DjjxK1S",
        "outputId": "0f138444-bcde-476c-c27f-a53d96599be0"
      },
      "execution_count": 21,
      "outputs": [
        {
          "output_type": "stream",
          "name": "stdout",
          "text": [
            "[1, 2, 3, 4]\n",
            "Denominator cannot be zero\n",
            "---------------------------------------\n",
            "Enter numbers only\n",
            "---------------------------------------\n",
            "Ivalid Index\n",
            "---------------------------------------\n",
            "File Not Found\n"
          ]
        }
      ]
    },
    {
      "cell_type": "markdown",
      "source": [
        "# Handling Multiple Exceptions"
      ],
      "metadata": {
        "id": "yFvlzhcK2iNL"
      }
    },
    {
      "cell_type": "code",
      "source": [
        "try:\n",
        "    a=10/0\n",
        "    print(a)\n",
        "    b=[10,20,30,40]\n",
        "    print(b[5])\n",
        "except ZeroDivisionError:\n",
        "    print(\"denominator cant be zero\")\n",
        "except IndexError:\n",
        "    print(\"Invalid Index\")\n"
      ],
      "metadata": {
        "colab": {
          "base_uri": "https://localhost:8080/"
        },
        "id": "_xpOJS4H2pyb",
        "outputId": "696bd073-a4ba-4c31-eab9-3df30bf2ff8f"
      },
      "execution_count": 28,
      "outputs": [
        {
          "output_type": "stream",
          "name": "stdout",
          "text": [
            "denominator cant be zero\n"
          ]
        }
      ]
    },
    {
      "cell_type": "markdown",
      "source": [
        "# Class And Object"
      ],
      "metadata": {
        "id": "U86Eh4f67yEv"
      }
    },
    {
      "cell_type": "code",
      "source": [
        "class car():\n",
        "  pass\n",
        "\n",
        "a = 10\n",
        "print(type(a))\n",
        "print(type(car))\n",
        "\n",
        "swift = car()\n",
        "\n",
        "print(isinstance(swift,car))\n",
        "print(isinstance(a,int))\n",
        "print(type(swift))\n"
      ],
      "metadata": {
        "colab": {
          "base_uri": "https://localhost:8080/"
        },
        "id": "_B0cVNdk75J1",
        "outputId": "8f11a2b1-a19f-47a0-d274-3d0a67a73d8b"
      },
      "execution_count": 29,
      "outputs": [
        {
          "output_type": "stream",
          "name": "stdout",
          "text": [
            "<class 'int'>\n",
            "<class 'type'>\n",
            "True\n",
            "True\n",
            "<class '__main__.car'>\n"
          ]
        }
      ]
    },
    {
      "cell_type": "markdown",
      "source": [
        "# class Attribute"
      ],
      "metadata": {
        "id": "DcRrKk46-blq"
      }
    },
    {
      "cell_type": "code",
      "source": [
        "class student():\n",
        "  name = \"Ram\"\n",
        "  age = 20\n",
        "\n",
        "# getattr method\n",
        "print(getattr(student, 'name'))\n",
        "print(getattr(student, 'age'))\n",
        "print(getattr(student, 'gender', 'no such attribute found'))\n",
        "\n",
        "# Dot Notation\n",
        "print(student.name)\n",
        "print(student.age)\n",
        "\n",
        "# setattr\n",
        "setattr(student, 'name', 'sita')\n",
        "print(student.name)\n",
        "\n",
        "setattr(student, 'gender', 'female')\n",
        "print(student.gender)\n",
        "\n",
        "student.city = 'salem'\n",
        "print(student.city)\n",
        "print(student.__dict__)\n",
        "delattr(student,\"city\")\n",
        "print(student.__dict__)\n",
        "del student.gender\n",
        "print(student.__dict__)\n"
      ],
      "metadata": {
        "colab": {
          "base_uri": "https://localhost:8080/"
        },
        "id": "ahXgL6U0-jFK",
        "outputId": "aeb839ec-39a6-4dca-bd36-46e40f1cdc71"
      },
      "execution_count": 43,
      "outputs": [
        {
          "output_type": "stream",
          "name": "stdout",
          "text": [
            "Ram\n",
            "20\n",
            "no such attribute found\n",
            "Ram\n",
            "20\n",
            "sita\n",
            "female\n",
            "salem\n",
            "{'__module__': '__main__', 'name': 'sita', 'age': 20, '__dict__': <attribute '__dict__' of 'student' objects>, '__weakref__': <attribute '__weakref__' of 'student' objects>, '__doc__': None, 'gender': 'female', 'city': 'salem'}\n",
            "{'__module__': '__main__', 'name': 'sita', 'age': 20, '__dict__': <attribute '__dict__' of 'student' objects>, '__weakref__': <attribute '__weakref__' of 'student' objects>, '__doc__': None, 'gender': 'female'}\n",
            "{'__module__': '__main__', 'name': 'sita', 'age': 20, '__dict__': <attribute '__dict__' of 'student' objects>, '__weakref__': <attribute '__weakref__' of 'student' objects>, '__doc__': None}\n"
          ]
        }
      ]
    },
    {
      "cell_type": "markdown",
      "source": [
        "# Instance Attribute"
      ],
      "metadata": {
        "id": "oo-_1xkRKOJ8"
      }
    },
    {
      "cell_type": "code",
      "source": [
        "class employee:\n",
        "  name = \"Ram\"\n",
        "\n",
        "o = employee()\n",
        "print(employee.__dict__)\n",
        "print(employee.name)\n",
        "print(o.__dict__)\n",
        "o.name = \"sita\"\n",
        "print(o.__dict__)\n",
        "print(o.name)\n",
        "\n",
        "o2 = employee()\n",
        "print(o2.name)"
      ],
      "metadata": {
        "id": "i9U91VEmKT-w",
        "outputId": "439b45cd-08b0-486e-bf2e-23ec869b2a46",
        "colab": {
          "base_uri": "https://localhost:8080/"
        }
      },
      "execution_count": 6,
      "outputs": [
        {
          "output_type": "stream",
          "name": "stdout",
          "text": [
            "{'__module__': '__main__', 'name': 'Ram', '__dict__': <attribute '__dict__' of 'employee' objects>, '__weakref__': <attribute '__weakref__' of 'employee' objects>, '__doc__': None}\n",
            "Ram\n",
            "{}\n",
            "{'name': 'sita'}\n",
            "sita\n",
            "Ram\n"
          ]
        }
      ]
    }
  ],
  "metadata": {
    "colab": {
      "toc_visible": true,
      "provenance": [],
      "include_colab_link": true
    },
    "kernelspec": {
      "display_name": "Python 3",
      "name": "python3"
    }
  },
  "nbformat": 4,
  "nbformat_minor": 0
}