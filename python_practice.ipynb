{
  "cells": [
    {
      "cell_type": "markdown",
      "metadata": {
        "id": "view-in-github",
        "colab_type": "text"
      },
      "source": [
        "<a href=\"https://colab.research.google.com/github/vijayalakshmig226/Python-Learning/blob/main/python_practice.ipynb\" target=\"_parent\"><img src=\"https://colab.research.google.com/assets/colab-badge.svg\" alt=\"Open In Colab\"/></a>"
      ]
    },
    {
      "cell_type": "markdown",
      "source": [
        "# User Input"
      ],
      "metadata": {
        "id": "ZjyJapCcqj9E"
      }
    },
    {
      "cell_type": "code",
      "source": [
        "name=input(\"Enter the name : \")\n",
        "print(name)\n",
        "print(type(name))\n",
        "\n",
        "a=int(input(\"Enter a value of a : \"))\n",
        "b=int(input(\"Enter a value of b : \"))\n",
        "c=a+b\n",
        "print(\"Total : \", c)\n",
        "print(type(c))\n",
        "\n",
        "a=float(input(\"Enter a value of a : \"))\n",
        "b=float(input(\"Enter a value of b : \"))\n",
        "c=a+b\n",
        "print(\"Total : \",c)\n",
        "print(type(c))"
      ],
      "metadata": {
        "colab": {
          "base_uri": "https://localhost:8080/"
        },
        "id": "r-0aqpWuqpU1",
        "outputId": "d1cbfe3a-cccb-4a28-d142-115075be3830"
      },
      "execution_count": null,
      "outputs": [
        {
          "output_type": "stream",
          "name": "stdout",
          "text": [
            "Enter the name : Ram\n",
            "Ram\n",
            "<class 'str'>\n",
            "Enter a value of a : 98\n",
            "Enter a value of b : 89\n",
            "Total :  187\n",
            "<class 'int'>\n",
            "Enter a value of a : 97\n",
            "Enter a value of b : 96\n",
            "Total :  193.0\n",
            "<class 'float'>\n"
          ]
        }
      ]
    },
    {
      "cell_type": "markdown",
      "source": [
        "# Getting Multiline Input"
      ],
      "metadata": {
        "id": "1YjrfuROstUi"
      }
    },
    {
      "cell_type": "code",
      "source": [
        "para=[]\n",
        "print(\"Enter a para\")\n",
        "\n",
        "while True:\n",
        "  line=input()\n",
        "  if line:\n",
        "    para.append(line)\n",
        "  else:\n",
        "    break\n",
        "    print(para)\n",
        "    output='\\n'.join(line)\n",
        "    print(output)"
      ],
      "metadata": {
        "colab": {
          "base_uri": "https://localhost:8080/"
        },
        "id": "I4Kh5quQtTxX",
        "outputId": "bf885c68-71ff-46af-db9f-e9e1558062f4"
      },
      "execution_count": null,
      "outputs": [
        {
          "name": "stdout",
          "output_type": "stream",
          "text": [
            "Enter a para\n",
            "Ram is good\n",
            "Sita is good\n",
            "\n"
          ]
        }
      ]
    },
    {
      "cell_type": "markdown",
      "source": [
        "# Type Casting"
      ],
      "metadata": {
        "id": "V1o2bPFduPSG"
      }
    },
    {
      "cell_type": "code",
      "source": [
        "a=99.9\n",
        "print(a)\n",
        "print(type(a))\n",
        "b=int(a)\n",
        "print(b)\n",
        "print(type(b))"
      ],
      "metadata": {
        "colab": {
          "base_uri": "https://localhost:8080/"
        },
        "id": "Vc9XOsRIuUVC",
        "outputId": "3e61144a-90b7-4acd-ee55-0cb3ecb1a1ce"
      },
      "execution_count": null,
      "outputs": [
        {
          "output_type": "stream",
          "name": "stdout",
          "text": [
            "99.9\n",
            "<class 'float'>\n",
            "99\n",
            "<class 'int'>\n"
          ]
        }
      ]
    },
    {
      "cell_type": "markdown",
      "source": [
        "# String And String Function"
      ],
      "metadata": {
        "id": "5sjR1ytg4cR-"
      }
    },
    {
      "cell_type": "code",
      "source": [
        "s = \"Ram kumar\"\n",
        "print(s)\n",
        "print(type(s))\n",
        "print(s.upper())\n",
        "print(s.lower())\n",
        "print(s.capitalize())\n",
        "print(s.title())\n",
        "print(s.count(\"a\"))\n",
        "print(s.endswith(\"ar\"))\n",
        "print(s.find(\"m\"))\n",
        "print(s.find(\"m\", 5))\n",
        "print(s.replace(\"m\", 'w'))\n",
        "a = \"Ram1234\"\n",
        "print(\"Is Upper : \", a.isupper())\n",
        "print(\"Is Lower : \", a.islower())\n",
        "print(\"Is Alpha Numeric : \", a.isalnum())\n",
        "print(\"Is Alpha : \", a.isalpha())\n",
        "s = \"he\\nis\\ngood\"\n",
        "print(s)\n",
        "print(s.splitlines())\n",
        "print(s.splitlines(True))\n",
        "a = \"Ram is from chennai\"\n",
        "print(a.split(\" \"))\n",
        "a = \"Ram,is,from,chennai\"\n",
        "print(a.split(\",\"))\n",
        "s=\"    Ram     \"\n",
        "print(len(s))\n",
        "print(len(s.strip()))\n",
        "print(len(s.lstrip()))\n",
        "print(len(s.rstrip()))\n",
        "s='01-01-2025'\n",
        "print(s.partition('-'))"
      ],
      "metadata": {
        "id": "Yas7Kwqd4c1K",
        "outputId": "6a99b005-06c7-4e3f-af4a-83cc7a48d100",
        "colab": {
          "base_uri": "https://localhost:8080/"
        }
      },
      "execution_count": null,
      "outputs": [
        {
          "output_type": "stream",
          "name": "stdout",
          "text": [
            "Ram kumar\n",
            "<class 'str'>\n",
            "RAM KUMAR\n",
            "ram kumar\n",
            "Ram kumar\n",
            "Ram Kumar\n",
            "2\n",
            "True\n",
            "2\n",
            "6\n",
            "Raw kuwar\n",
            "Is Upper :  False\n",
            "Is Lower :  False\n",
            "Is Alpha Numeric :  True\n",
            "Is Alpha :  False\n",
            "he\n",
            "is\n",
            "good\n",
            "['he', 'is', 'good']\n",
            "['he\\n', 'is\\n', 'good']\n",
            "['Ram', 'is', 'from', 'chennai']\n",
            "['Ram', 'is', 'from', 'chennai']\n",
            "12\n",
            "3\n",
            "8\n",
            "7\n",
            "('01', '-', '01-2025')\n"
          ]
        }
      ]
    },
    {
      "cell_type": "markdown",
      "source": [
        "# String Manipulation"
      ],
      "metadata": {
        "id": "xRaXwa7QDVHz"
      }
    },
    {
      "cell_type": "code",
      "source": [
        "s= \"sample\"\n",
        "print(s)\n",
        "print(s[0:2])\n",
        "print(s[:5])\n",
        "print(s[1:])\n",
        "print(s[-1])\n",
        "print(s[-2:-1])\n",
        "print(s[:-1])\n",
        "print(s[::-1])\n"
      ],
      "metadata": {
        "colab": {
          "base_uri": "https://localhost:8080/"
        },
        "id": "CQDnSQVtDdAx",
        "outputId": "2b15dc0e-6b79-40ad-a936-7bc2dbf335c1"
      },
      "execution_count": null,
      "outputs": [
        {
          "output_type": "stream",
          "name": "stdout",
          "text": [
            "sample\n",
            "sa\n",
            "sampl\n",
            "ample\n",
            "e\n",
            "l\n",
            "sampl\n",
            "elpmas\n"
          ]
        }
      ]
    },
    {
      "cell_type": "markdown",
      "source": [
        "# Arithmetic Operator"
      ],
      "metadata": {
        "id": "eAgufuFB8MEn"
      }
    },
    {
      "cell_type": "code",
      "source": [
        "\"\"\"\n",
        "+  Addition\n",
        "-  Subtraction\n",
        "*  Multiplication\n",
        "/  Division\n",
        "%  Modulus\n",
        "** Exponentiation\n",
        "// Floor division\n",
        "\"\"\"\n",
        "\n",
        "a=6\n",
        "b=5\n",
        "print(a+b)\n",
        "print(a-b)\n",
        "print(a*b)\n",
        "print(a/b)\n",
        "print(a//b)\n",
        "print(a%b)\n",
        "print(2**3)\n"
      ],
      "metadata": {
        "colab": {
          "base_uri": "https://localhost:8080/"
        },
        "id": "YXBKvZpF8YGu",
        "outputId": "924fd6b6-727d-4a35-e239-d0e71bd1d88a"
      },
      "execution_count": null,
      "outputs": [
        {
          "output_type": "stream",
          "name": "stdout",
          "text": [
            "11\n",
            "1\n",
            "30\n",
            "1.2\n",
            "1\n",
            "1\n",
            "8\n"
          ]
        }
      ]
    },
    {
      "cell_type": "markdown",
      "source": [
        "# Assignment Operator"
      ],
      "metadata": {
        "id": "cX4xLzriCCE9"
      }
    },
    {
      "cell_type": "code",
      "source": [
        "\"\"\"\n",
        " =  Assignment\n",
        "+=\tAddition\n",
        "-=\tSubtraction\n",
        "*=\tMultiplication\n",
        "/=\tDivision\n",
        "%=\tModulus\n",
        "**=\tExponentiation\n",
        "//=\tFloor division\n",
        "\"\"\"\n",
        "\n",
        "a = 125\n",
        "print(a)\n",
        "a += 10\n",
        "print(a)\n",
        "a -=10\n",
        "print(a)\n",
        "a *= 10\n",
        "print(a)\n",
        "a /= 10\n",
        "print(a)\n",
        "a %= 10\n",
        "print(a)\n",
        "a **= 2\n",
        "print(a)\n",
        "a //= 10\n",
        "print(a)\n",
        "\n"
      ],
      "metadata": {
        "colab": {
          "base_uri": "https://localhost:8080/"
        },
        "id": "O3t_MEkCCHJE",
        "outputId": "e3ae36ac-3a51-485a-9336-aab58924ed0b"
      },
      "execution_count": null,
      "outputs": [
        {
          "output_type": "stream",
          "name": "stdout",
          "text": [
            "125\n",
            "135\n",
            "125\n",
            "1250\n",
            "125.0\n",
            "5.0\n",
            "25.0\n",
            "2.0\n"
          ]
        }
      ]
    },
    {
      "cell_type": "markdown",
      "source": [
        "# Comparision or Relational Operator"
      ],
      "metadata": {
        "id": "n37oT2WPFaG2"
      }
    },
    {
      "cell_type": "code",
      "source": [
        "\"\"\"\n",
        "==\tEqual\n",
        "!=\tNot equal\n",
        ">\tGreater than\n",
        "<\tLess than\n",
        ">=\tGreater than or equal to\n",
        "<=\tLess than or equal to\n",
        "\n",
        "\"\"\"\n",
        "\n",
        "a = 10\n",
        "b = 20\n",
        "print(a == b)\n",
        "print(a != b)\n",
        "print(a > b)\n",
        "print(a < b)\n",
        "print(a >= b)\n",
        "print(a <= b)\n"
      ],
      "metadata": {
        "colab": {
          "base_uri": "https://localhost:8080/"
        },
        "id": "WpJfAc3rFp_X",
        "outputId": "93110213-1928-40b2-ef05-32556fce284e"
      },
      "execution_count": null,
      "outputs": [
        {
          "output_type": "stream",
          "name": "stdout",
          "text": [
            "False\n",
            "True\n",
            "False\n",
            "True\n",
            "False\n",
            "True\n"
          ]
        }
      ]
    },
    {
      "cell_type": "markdown",
      "source": [
        "# Logical Operator"
      ],
      "metadata": {
        "id": "gviEHm7wGvE9"
      }
    },
    {
      "cell_type": "code",
      "source": [
        "\"\"\"\n",
        "and\n",
        "or\n",
        "not\n",
        "\"\"\"\n",
        "\n",
        "a = 20\n",
        "print(a >= 10 and a <= 15)\n",
        "print(a >=10 or a<= 25)\n",
        "print(not(a >= 10 and a <= 25))\n"
      ],
      "metadata": {
        "colab": {
          "base_uri": "https://localhost:8080/"
        },
        "id": "NbLA7JVTGz0N",
        "outputId": "499c73e1-b792-482c-a63d-fe617c0e3020"
      },
      "execution_count": null,
      "outputs": [
        {
          "output_type": "stream",
          "name": "stdout",
          "text": [
            "False\n",
            "True\n",
            "False\n"
          ]
        }
      ]
    },
    {
      "cell_type": "markdown",
      "source": [
        "# Bitwise Opertaor"
      ],
      "metadata": {
        "id": "Pk6R_7RBIzhJ"
      }
    },
    {
      "cell_type": "code",
      "source": [
        "\"\"\"\n",
        "& \tAND\n",
        "|\tOR\n",
        "^\tXOR\n",
        "~ \tNOT\n",
        "<<\tZero fill left shift\n",
        ">>\tSigned right shift\n",
        "\"\"\"\n",
        "\n",
        "a=25\n",
        "b=45\n",
        "print(a&b)\n",
        "print(a|b)\n",
        "print(a^b)\n",
        "print(~a)\n",
        "print(a<<2)\n",
        "print(a>>2)\n",
        "\n",
        "\n",
        "\n"
      ],
      "metadata": {
        "id": "xdo3qfjZI0Od",
        "colab": {
          "base_uri": "https://localhost:8080/"
        },
        "outputId": "10d15fca-2149-440d-f9cf-391bb7fab12f"
      },
      "execution_count": null,
      "outputs": [
        {
          "output_type": "stream",
          "name": "stdout",
          "text": [
            "9\n",
            "61\n",
            "52\n",
            "-26\n",
            "100\n",
            "6\n"
          ]
        }
      ]
    },
    {
      "cell_type": "markdown",
      "source": [
        "# IF Else Statemet"
      ],
      "metadata": {
        "id": "FgwQ-pxwH_zF"
      }
    },
    {
      "cell_type": "code",
      "source": [
        "name = input(\"Enter a name: \")\n",
        "Age = int(input(\"Enter a age: \"))\n",
        "if Age >=18:\n",
        "  print(name, \"is eligible for vote\")\n",
        "else:\n",
        "  print(name, \"is not eligible for vote\")"
      ],
      "metadata": {
        "colab": {
          "base_uri": "https://localhost:8080/"
        },
        "id": "Y8KStUywN0t7",
        "outputId": "757734c5-ea02-44a5-e9a2-005e960e671e"
      },
      "execution_count": null,
      "outputs": [
        {
          "output_type": "stream",
          "name": "stdout",
          "text": [
            "Enter a name: ram\n",
            "Enter a age: 19\n",
            "ram is eligible for vote\n"
          ]
        }
      ]
    },
    {
      "cell_type": "markdown",
      "source": [
        "# Elif Statement"
      ],
      "metadata": {
        "id": "h7KHwJbhR04D"
      }
    },
    {
      "cell_type": "code",
      "source": [
        "days = int(input(\"Enter the days: \"))\n",
        "if days == 0:\n",
        "  print(\"Good no fine\")\n",
        "elif days >=1 and days <=5:\n",
        "  print(\"Fine Amount: \", days*1)\n",
        "elif days >5 and days <= 10:\n",
        "  print(\"Fine amount: \", days*2)\n",
        "else:\n",
        "  print(\"membership cancel\")\n"
      ],
      "metadata": {
        "colab": {
          "base_uri": "https://localhost:8080/"
        },
        "id": "GnzS08qLR9QX",
        "outputId": "c1a20dbc-2a86-40e4-d767-bd09a3e77365"
      },
      "execution_count": null,
      "outputs": [
        {
          "output_type": "stream",
          "name": "stdout",
          "text": [
            "Enter the days: 6\n",
            "Fine amount:  12\n"
          ]
        }
      ]
    },
    {
      "cell_type": "markdown",
      "source": [
        "# Nested If Statemet"
      ],
      "metadata": {
        "id": "YSBHNhiaTp_3"
      }
    },
    {
      "cell_type": "code",
      "source": [
        "m1 = int(input(\"Enter mark1 :\"))\n",
        "m2 = int(input(\"Enter mark2 :\"))\n",
        "m3 = int(input(\"Enter mark3 :\"))\n",
        "total = m1+m2+m3\n",
        "average = total/3\n",
        "if m1>=35 and m2>=35 and m3>=35:\n",
        " print(\"pass\")\n",
        " if average >=90 and average <=100:\n",
        "  print(\"grade : a\")\n",
        " elif average >=80 and average <=89:\n",
        "  print(\"grade : b\")\n",
        " elif average >=70 and average <=79:\n",
        "  print(\"grade : c\")\n",
        " else:\n",
        "  print(\"grade: d\")\n",
        "else:\n",
        " print(\"fail\")\n",
        " print(\"no grade\")\n"
      ],
      "metadata": {
        "colab": {
          "base_uri": "https://localhost:8080/"
        },
        "id": "BkBcJPgpXaow",
        "outputId": "284ec1ca-aff7-4da1-fa6e-00b744ac6c9e"
      },
      "execution_count": null,
      "outputs": [
        {
          "output_type": "stream",
          "name": "stdout",
          "text": [
            "Enter mark1 :70\n",
            "Enter mark2 :80\n",
            "Enter mark3 :90\n",
            "pass\n",
            "grade : b\n"
          ]
        }
      ]
    },
    {
      "cell_type": "markdown",
      "source": [
        "# While Loop"
      ],
      "metadata": {
        "id": "pfqRuQ_IahL5"
      }
    },
    {
      "cell_type": "code",
      "source": [
        "i = 1\n",
        "while i <= 10:\n",
        "  print(i)\n",
        "  i += 1\n",
        "\n",
        "\n",
        "n = 20\n",
        "print(\"even no: \")\n",
        "i = 2\n",
        "while i <=20:\n",
        " print(i)\n",
        " i += 2"
      ],
      "metadata": {
        "colab": {
          "base_uri": "https://localhost:8080/"
        },
        "id": "BZRQ6ZFYdMn2",
        "outputId": "d6ca7a20-5acf-410c-8319-329e3809ac85"
      },
      "execution_count": null,
      "outputs": [
        {
          "output_type": "stream",
          "name": "stdout",
          "text": [
            "1\n",
            "2\n",
            "3\n",
            "4\n",
            "5\n",
            "6\n",
            "7\n",
            "8\n",
            "9\n",
            "10\n",
            "even no: \n",
            "2\n",
            "4\n",
            "6\n",
            "8\n",
            "10\n",
            "12\n",
            "14\n",
            "16\n",
            "18\n",
            "20\n"
          ]
        }
      ]
    },
    {
      "cell_type": "markdown",
      "source": [
        "# Continue Using While Loop"
      ],
      "metadata": {
        "id": "yuO9BSD-e7Jj"
      }
    },
    {
      "cell_type": "code",
      "source": [
        "i=1\n",
        "while i<= 20:\n",
        "  if i%2==0:\n",
        "    i=i+1\n",
        "    continue;\n",
        "  print(i)\n",
        "  i +=1"
      ],
      "metadata": {
        "colab": {
          "base_uri": "https://localhost:8080/"
        },
        "id": "66uNBOAIfEIo",
        "outputId": "e0673ea4-c0a7-46f8-bec1-a5d86b440fa5"
      },
      "execution_count": null,
      "outputs": [
        {
          "output_type": "stream",
          "name": "stdout",
          "text": [
            "1\n",
            "3\n",
            "5\n",
            "7\n",
            "9\n",
            "11\n",
            "13\n",
            "15\n",
            "17\n",
            "19\n"
          ]
        }
      ]
    },
    {
      "cell_type": "markdown",
      "source": [
        "# Break Using While Loop"
      ],
      "metadata": {
        "id": "nrIVOAh3hx-S"
      }
    },
    {
      "cell_type": "code",
      "source": [
        "i=1\n",
        "while i <=20:\n",
        "  if i==7:\n",
        "    break\n",
        "  print(i)\n",
        "  i +=1"
      ],
      "metadata": {
        "colab": {
          "base_uri": "https://localhost:8080/"
        },
        "id": "hTOlnKCQh7Cn",
        "outputId": "151eef09-127e-4bbe-96a4-b66974320537"
      },
      "execution_count": 3,
      "outputs": [
        {
          "output_type": "stream",
          "name": "stdout",
          "text": [
            "1\n",
            "2\n",
            "3\n",
            "4\n",
            "5\n",
            "6\n"
          ]
        }
      ]
    },
    {
      "cell_type": "markdown",
      "source": [
        "# Range"
      ],
      "metadata": {
        "id": "hU_PiFMxioLy"
      }
    },
    {
      "cell_type": "code",
      "source": [
        "print(list(range(5)))\n",
        "print(list(range(0,5)))\n",
        "print(list(range(2,21,2)))\n",
        "print(list(range(1,20,2)))"
      ],
      "metadata": {
        "colab": {
          "base_uri": "https://localhost:8080/"
        },
        "id": "cLxLfHqmj4Xc",
        "outputId": "c102cebc-63b3-4a64-c745-4fe626c1b297"
      },
      "execution_count": null,
      "outputs": [
        {
          "output_type": "stream",
          "name": "stdout",
          "text": [
            "[0, 1, 2, 3, 4]\n",
            "[0, 1, 2, 3, 4]\n",
            "[2, 4, 6, 8, 10, 12, 14, 16, 18, 20]\n",
            "[1, 3, 5, 7, 9, 11, 13, 15, 17, 19]\n"
          ]
        }
      ]
    },
    {
      "cell_type": "markdown",
      "source": [
        "# For Loop"
      ],
      "metadata": {
        "id": "bFejH8IDlOJS"
      }
    },
    {
      "cell_type": "code",
      "source": [
        "for i in range(0, 21, 2):\n",
        " print(i)\n",
        "\n",
        "\n",
        "for i in range(5):\n",
        "    a = int(input(\"enter the no: \"))\n",
        "    b = int(input(\"enter the no: \"))\n",
        "    print(a+b)\n",
        "\n",
        "\n"
      ],
      "metadata": {
        "id": "ff3sucLola64",
        "outputId": "11dd31a0-8a81-47f6-b067-6a76bb912921",
        "colab": {
          "base_uri": "https://localhost:8080/"
        }
      },
      "execution_count": null,
      "outputs": [
        {
          "output_type": "stream",
          "name": "stdout",
          "text": [
            "0\n",
            "2\n",
            "4\n",
            "6\n",
            "8\n",
            "10\n",
            "12\n",
            "14\n",
            "16\n",
            "18\n",
            "20\n",
            "enter the no: 45\n",
            "enter the no: 7\n",
            "52\n",
            "enter the no: 8\n",
            "enter the no: 8\n",
            "16\n",
            "enter the no: 6\n",
            "enter the no: 6\n",
            "12\n",
            "enter the no: 6\n",
            "enter the no: 9\n",
            "15\n",
            "enter the no: 9\n",
            "enter the no: 6\n",
            "15\n"
          ]
        }
      ]
    },
    {
      "cell_type": "markdown",
      "source": [
        "# Nested For Loop"
      ],
      "metadata": {
        "id": "7JTwPRpnarrj"
      }
    },
    {
      "cell_type": "code",
      "source": [
        "\"\"\"\n",
        "A-Z => 65-90\n",
        "a-z=> 97-122\n",
        "\"\"\"\n",
        "\n",
        "\n",
        "for i in range(6):\n",
        "    for j in range(i):\n",
        "        print(\"*\", end=\"\")\n",
        "    print(\"\")\n",
        "print(\"----------\")\n",
        "\n",
        "for i in range(5,0,-1):\n",
        "    for j in range(i):\n",
        "        print(\"*\", end=\"\")\n",
        "    print(\"\")\n",
        "print(\"----------\")\n",
        "\n",
        "for i in range(65,70,1):\n",
        "    for j in range(65,70,1):\n",
        "        print(chr(j), end=\"\")\n",
        "    print(\"\")\n",
        "print(\"----------\")\n",
        "\n",
        "for i in range(122,117,-1):\n",
        "    for j in range(122,117,-1):\n",
        "        print(chr(j), end=\"\")\n",
        "    print(\"\")\n",
        "\n",
        "\n"
      ],
      "metadata": {
        "colab": {
          "base_uri": "https://localhost:8080/"
        },
        "id": "_FFKrxPZa0M6",
        "outputId": "c8d52eb6-3911-40c2-d57d-2153f7b2f69b"
      },
      "execution_count": 22,
      "outputs": [
        {
          "output_type": "stream",
          "name": "stdout",
          "text": [
            "\n",
            "*\n",
            "**\n",
            "***\n",
            "****\n",
            "*****\n",
            "----------\n",
            "*****\n",
            "****\n",
            "***\n",
            "**\n",
            "*\n",
            "----------\n",
            "ABCDE\n",
            "ABCDE\n",
            "ABCDE\n",
            "ABCDE\n",
            "ABCDE\n",
            "----------\n",
            "zyxwv\n",
            "zyxwv\n",
            "zyxwv\n",
            "zyxwv\n",
            "zyxwv\n"
          ]
        }
      ]
    },
    {
      "cell_type": "markdown",
      "source": [
        "# while Else & For Else"
      ],
      "metadata": {
        "id": "TcF5z0BjhlvC"
      }
    },
    {
      "cell_type": "code",
      "source": [
        "i = 1\n",
        "while i<= 5:\n",
        "  print(i)\n",
        "  i += 1\n",
        "else:\n",
        "  print(\"loop completed\")\n",
        "print(\"-------------------\")\n",
        "\n",
        "for i in range(1,5):\n",
        " print(i)\n",
        "else:\n",
        "  print(\"loop completed\")"
      ],
      "metadata": {
        "colab": {
          "base_uri": "https://localhost:8080/"
        },
        "id": "nUx7gDbphxIt",
        "outputId": "26bf30ce-538a-4882-d568-352694ecd1cf"
      },
      "execution_count": 27,
      "outputs": [
        {
          "output_type": "stream",
          "name": "stdout",
          "text": [
            "1\n",
            "2\n",
            "3\n",
            "4\n",
            "5\n",
            "loop completed\n",
            "-------------------\n",
            "1\n",
            "2\n",
            "3\n",
            "4\n",
            "loop completed\n"
          ]
        }
      ]
    },
    {
      "cell_type": "markdown",
      "source": [
        "# List and Its Functions"
      ],
      "metadata": {
        "id": "ZkuN3Syibz3r"
      }
    },
    {
      "cell_type": "code",
      "source": [
        "a = [1,2,3,4,5]\n",
        "print(a)\n",
        "print(type(a))\n",
        "a[0]=100\n",
        "print(a)\n",
        "# slicig\n",
        "print(a[1])\n",
        "print(a[-1])\n",
        "print(a[0:3])\n",
        "print(a[:2])\n",
        "print(a[2:])\n",
        "print(\"-----------------------\")\n",
        "a = [1, True, 'ram', 2.5, [1,2,3,4]]\n",
        "print(a)\n",
        "print(type(a))\n",
        "print(type(a[0]))\n",
        "print(type(a[1]))\n",
        "print(type(a[2]))\n",
        "print(type(a[3]))\n",
        "print(a[4])\n",
        "print(\"-----------------------\")\n",
        "a = [10, 20, 30, 40]\n",
        "print(a)\n",
        "a.clear()\n",
        "print(a)\n",
        "a = [10, 20, 30, 40]\n",
        "b = a.copy()\n",
        "print(b)\n",
        "a = [10, 20, 30, 20, 4, 40]\n",
        "print(a.count(20))\n",
        "print(a.index(40))\n",
        "print(len(a))\n",
        "print(min(a))\n",
        "print(max(a))\n",
        "print(a)\n",
        "a.pop(1) # remove element using index\n",
        "print(a)\n",
        "a = [10, 20, 30, 20, 4, 40]\n",
        "a.remove(20)\n",
        "print(a)\n",
        "print(\"-----------------------\")\n",
        "names = [\"ram\"]\n",
        "print(names)\n",
        "names.append(\"sita\")\n",
        "names.append(\"lakshman\")\n",
        "names.append(\"hanuman\")\n",
        "print(names)\n",
        "name1 = [\"janu\"]\n",
        "names.extend(name1)\n",
        "print(names)\n",
        "names.insert(0,\"siva\")\n",
        "print(names)\n",
        "print(\"-----------------------\")\n",
        "print(list(range(5)))\n",
        "print(list(\"sitaram\"))\n",
        "a = [50, 60, 30, 25]\n",
        "print(a)\n",
        "a.sort()\n",
        "print(a)\n",
        "a.sort(reverse=True)\n",
        "print(a)\n",
        "a = [\"apple\", \"zebra\", \"orange\"]\n",
        "print(a)\n",
        "a.sort()\n",
        "print(a)\n",
        "a.sort(reverse=True)\n",
        "print(a)\n",
        "a.sort(key=len)\n",
        "print(a)\n",
        "\n",
        "\n",
        "\n"
      ],
      "metadata": {
        "colab": {
          "base_uri": "https://localhost:8080/"
        },
        "id": "iDYWSZ9Bb7-E",
        "outputId": "324da65a-dd73-44df-f917-18b35b79a2cc"
      },
      "execution_count": 35,
      "outputs": [
        {
          "output_type": "stream",
          "name": "stdout",
          "text": [
            "[1, 2, 3, 4, 5]\n",
            "<class 'list'>\n",
            "[100, 2, 3, 4, 5]\n",
            "2\n",
            "5\n",
            "[100, 2, 3]\n",
            "[100, 2]\n",
            "[3, 4, 5]\n",
            "-----------------------\n",
            "[1, True, 'ram', 2.5, [1, 2, 3, 4]]\n",
            "<class 'list'>\n",
            "<class 'int'>\n",
            "<class 'bool'>\n",
            "<class 'str'>\n",
            "<class 'float'>\n",
            "[1, 2, 3, 4]\n",
            "-----------------------\n",
            "[10, 20, 30, 40]\n",
            "[]\n",
            "[10, 20, 30, 40]\n",
            "2\n",
            "5\n",
            "6\n",
            "4\n",
            "40\n",
            "[10, 20, 30, 20, 4, 40]\n",
            "[10, 30, 20, 4, 40]\n",
            "[10, 30, 20, 4, 40]\n",
            "-----------------------\n",
            "['ram']\n",
            "['ram', 'sita', 'lakshman', 'hanuman']\n",
            "['ram', 'sita', 'lakshman', 'hanuman', 'janu']\n",
            "['siva', 'ram', 'sita', 'lakshman', 'hanuman', 'janu']\n",
            "-----------------------\n",
            "[0, 1, 2, 3, 4]\n",
            "['s', 'i', 't', 'a', 'r', 'a', 'm']\n",
            "[50, 60, 30, 25]\n",
            "[25, 30, 50, 60]\n",
            "[60, 50, 30, 25]\n",
            "['apple', 'zebra', 'orange']\n",
            "['apple', 'orange', 'zebra']\n",
            "['zebra', 'orange', 'apple']\n",
            "['zebra', 'apple', 'orange']\n"
          ]
        }
      ]
    },
    {
      "cell_type": "markdown",
      "source": [
        "# Tuple"
      ],
      "metadata": {
        "id": "0gBAl4X2wm6B"
      }
    },
    {
      "cell_type": "code",
      "source": [
        "a = (1, True, \"sita\", 2.5)\n",
        "print(a)\n",
        "print(type(a))\n",
        "# Slicing\n",
        "print(a[1])\n",
        "print(a[-1])\n",
        "print(a[2:])\n",
        "print(a[0:2])\n",
        "print(a[2:])\n",
        "print(a)\n",
        "b = list(a)\n",
        "b.append(\"ram\")\n",
        "print(b)\n",
        "print(type(b))\n",
        "a = tuple(b)\n",
        "print(a)\n",
        "print(type(a))\n",
        "\n",
        "for i in a:\n",
        "  print(i)\n",
        "\n",
        "if \"sita\" in a:\n",
        "  print(\"sita is found\")\n",
        "else:\n",
        "  print(\"sita is not found\")\n",
        "print(len(a))\n",
        "\n",
        "a=(5,)\n",
        "print(type(a))\n",
        "del a\n",
        "\n",
        "a = (1, 2, 3, 4)\n",
        "b = (5, 6, 7, 8)\n",
        "c = a + b\n",
        "print(c)\n",
        "print(c.count(7))\n",
        "\n",
        "a = (1, 2, 3, 4)\n",
        "b = (5, 6, 7, 8)\n",
        "c = (a,b)\n",
        "print(c)\n",
        "print(c[0])\n",
        "print(c[1])\n",
        "print(c[0][2])\n",
        "\n",
        "a = ('ram',)*10\n",
        "print(a,)\n",
        "\n",
        "a = (1, 2, 3, 4)\n",
        "b = (5, 6, 7, 8)\n",
        "print(min(a))\n",
        "print(max(b))"
      ],
      "metadata": {
        "id": "NMYrd5G2wqpf",
        "outputId": "4b9e833b-d5be-423e-b29a-36f7906148d7",
        "colab": {
          "base_uri": "https://localhost:8080/"
        }
      },
      "execution_count": 56,
      "outputs": [
        {
          "output_type": "stream",
          "name": "stdout",
          "text": [
            "(1, True, 'sita', 2.5)\n",
            "<class 'tuple'>\n",
            "True\n",
            "2.5\n",
            "('sita', 2.5)\n",
            "(1, True)\n",
            "('sita', 2.5)\n",
            "(1, True, 'sita', 2.5)\n",
            "[1, True, 'sita', 2.5, 'ram']\n",
            "<class 'list'>\n",
            "(1, True, 'sita', 2.5, 'ram')\n",
            "<class 'tuple'>\n",
            "1\n",
            "True\n",
            "sita\n",
            "2.5\n",
            "ram\n",
            "sita is found\n",
            "5\n",
            "<class 'tuple'>\n",
            "(1, 2, 3, 4, 5, 6, 7, 8)\n",
            "1\n",
            "((1, 2, 3, 4), (5, 6, 7, 8))\n",
            "(1, 2, 3, 4)\n",
            "(5, 6, 7, 8)\n",
            "3\n",
            "('ram', 'ram', 'ram', 'ram', 'ram', 'ram', 'ram', 'ram', 'ram', 'ram')\n",
            "1\n",
            "8\n"
          ]
        }
      ]
    }
  ],
  "metadata": {
    "colab": {
      "toc_visible": true,
      "provenance": [],
      "include_colab_link": true
    },
    "kernelspec": {
      "display_name": "Python 3",
      "name": "python3"
    }
  },
  "nbformat": 4,
  "nbformat_minor": 0
}